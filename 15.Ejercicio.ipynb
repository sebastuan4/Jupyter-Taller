{
 "cells": [
  {
   "cell_type": "code",
   "execution_count": null,
   "metadata": {},
   "outputs": [],
   "source": [
    "#Crear 2 clases, una llamada persona y otra llamada trabajador\n",
    "#agrege 2 funciones a cada clase, 3 variables 1 encapsulada que permita herencia y otra que no\n",
    "#nota: 1 de las funciones de ambas clases, debe llamarse igual y van a ser llamadas con polimorfismo"
   ]
  },
  {
   "cell_type": "code",
   "execution_count": null,
   "metadata": {},
   "outputs": [],
   "source": []
  }
 ],
 "metadata": {
  "language_info": {
   "name": "python"
  },
  "orig_nbformat": 4
 },
 "nbformat": 4,
 "nbformat_minor": 2
}
