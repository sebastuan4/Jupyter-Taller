{
 "cells": [
  {
   "cell_type": "code",
   "execution_count": null,
   "metadata": {},
   "outputs": [],
   "source": [
    "#Crear 2 clases, una llamada persona y otra llamada trabajador\n",
    "#3 variablesagrege 2 funciones a cada clase,  1 encapsulada que permita herencia y otra que no\n",
    "#nota: 1 de las funciones de ambas clases, debe llamarse igual y van a ser llamadas con polimorfismo"
   ]
  },
  {
   "cell_type": "code",
   "execution_count": 4,
   "metadata": {},
   "outputs": [
    {
     "name": "stdout",
     "output_type": "stream",
     "text": [
      "Soy un videojuego inteligente\n"
     ]
    }
   ],
   "source": [
    "class persona():\n",
    "    nombre=\"Kratos\"\n",
    "    puesto=\"Dios de la guerra\"\n",
    "    _objetivo=\"Vencer a todos los dioses\"\n",
    "    __apodo=\"buttercup\"\n",
    "    def quehago():\n",
    "        return(\"Soy el Dios de la guerra\")\n",
    "\n",
    "\n",
    "class trabajador():\n",
    "    nombre=\"BMO\"\n",
    "    puesto=\"Videojuego inteligente\"\n",
    "    _objetivo=\"Entretenimiento\"\n",
    "    __apodo=\"The ender\"\n",
    "    def quehago():\n",
    "        return(\"Soy un videojuego inteligente\")\n",
    "\n",
    "def quehacen():\n",
    "    clases=[persona,trabajador]\n",
    "    for clase in clases:\n",
    "        print(clase.quehago())\n",
    "\n",
    "pass #por vara"
   ]
  },
  {
   "cell_type": "code",
   "execution_count": 11,
   "metadata": {},
   "outputs": [
    {
     "name": "stdout",
     "output_type": "stream",
     "text": [
      "cornudo\n"
     ]
    },
    {
     "ename": "TypeError",
     "evalue": "resume() takes 0 positional arguments but 1 was given",
     "output_type": "error",
     "traceback": [
      "\u001b[1;31m---------------------------------------------------------------------------\u001b[0m",
      "\u001b[1;31mTypeError\u001b[0m                                 Traceback (most recent call last)",
      "\u001b[1;32mc:\\Users\\sebas\\Desktop\\Jupyter\\15.Ejercicio.ipynb Cell 3'\u001b[0m in \u001b[0;36m<cell line: 26>\u001b[1;34m()\u001b[0m\n\u001b[0;32m     <a href='vscode-notebook-cell:/c%3A/Users/sebas/Desktop/Jupyter/15.Ejercicio.ipynb#ch0000002?line=23'>24</a>\u001b[0m     \u001b[39mfor\u001b[39;00m clase \u001b[39min\u001b[39;00m clases:\n\u001b[0;32m     <a href='vscode-notebook-cell:/c%3A/Users/sebas/Desktop/Jupyter/15.Ejercicio.ipynb#ch0000002?line=24'>25</a>\u001b[0m         \u001b[39mprint\u001b[39m(clase\u001b[39m.\u001b[39msentir())\n\u001b[1;32m---> <a href='vscode-notebook-cell:/c%3A/Users/sebas/Desktop/Jupyter/15.Ejercicio.ipynb#ch0000002?line=25'>26</a>\u001b[0m resume(trabajador\u001b[39m.\u001b[39;49meconomia)\n\u001b[0;32m     <a href='vscode-notebook-cell:/c%3A/Users/sebas/Desktop/Jupyter/15.Ejercicio.ipynb#ch0000002?line=27'>28</a>\u001b[0m \u001b[39mprint\u001b[39m()\n",
      "\u001b[1;31mTypeError\u001b[0m: resume() takes 0 positional arguments but 1 was given"
     ]
    }
   ],
   "source": [
    "class persona():\n",
    "    situacion=\"ta loco\"\n",
    "    economia=\"quebrado\"\n",
    "    _situacion=\"cornudo\"\n",
    "    __galan=\"no\"\n",
    "    def enamorarse():\n",
    "        return persona._situacion\n",
    "    def sentir():\n",
    "        return persona.__galan\n",
    "\n",
    "class trabajador(persona):\n",
    "    empleo=\"vago\"\n",
    "    ultimo=\"hace un año\"\n",
    "    _salario=\"0\"\n",
    "    __bonos=\"ninguno\"\n",
    "    def estado():\n",
    "        return trabajador.empleo\n",
    "    def sentir():\n",
    "        return trabajador.ultimo\n",
    "    print(persona._situacion)\n",
    "\n",
    "def resume():\n",
    "    clases=[persona,trabajador]\n",
    "    for clase in clases:\n",
    "        print(clase.sentir())\n",
    "resume()\n",
    "\n",
    "print(trabajador.economia)\n"
   ]
  }
 ],
 "metadata": {
  "kernelspec": {
   "display_name": "Python 3.10.5 64-bit",
   "language": "python",
   "name": "python3"
  },
  "language_info": {
   "codemirror_mode": {
    "name": "ipython",
    "version": 3
   },
   "file_extension": ".py",
   "mimetype": "text/x-python",
   "name": "python",
   "nbconvert_exporter": "python",
   "pygments_lexer": "ipython3",
   "version": "3.10.5"
  },
  "orig_nbformat": 4,
  "vscode": {
   "interpreter": {
    "hash": "3ef525aed409cc5a13783047c8d4d090b051bbc20387ad523d849e44a70e3fe1"
   }
  }
 },
 "nbformat": 4,
 "nbformat_minor": 2
}
