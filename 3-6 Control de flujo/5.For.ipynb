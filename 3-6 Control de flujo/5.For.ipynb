{
  "cells": [
    {
      "cell_type": "code",
      "execution_count": null,
      "metadata": {},
      "outputs": [],
      "source": [
        "#For in range\n",
        "for i in range(10): #0-9 total 10 i+1 [0,1,2,3,4,5,6,7,8,9] \n",
        "    print(f\"Bucle ejecutado por: {i+1} vez\")\n",
        "\n"
      ]
    },
    {
      "cell_type": "code",
      "execution_count": 1,
      "metadata": {},
      "outputs": [
        {
          "name": "stdout",
          "output_type": "stream",
          "text": [
            "Los meses del año son: Enero\n",
            "Los meses del año son: Febrero\n",
            "Los meses del año son: Marzo\n",
            "Los meses del año son: Abril\n",
            "Los meses del año son: Mayo\n",
            "Los meses del año son: Junio\n",
            "Los meses del año son: Julio\n",
            "Los meses del año son: Agosto\n",
            "Los meses del año son: Septiembre\n",
            "Los meses del año son: Octubre\n",
            "Los meses del año son: Noviembre\n",
            "Los meses del año son: Diciembre\n"
          ]
        }
      ],
      "source": [
        "#For con lista \n",
        "meses = [\"Enero\",\"Febrero\",\"Marzo\",\"Abril\",'Mayo','Junio','Julio','Agosto','Septiembre','Octubre','Noviembre','Diciembre']\n",
        "for fechas in meses:\n",
        "    print(f\"Los meses del año son: {fechas}\")"
      ]
    },
    {
      "cell_type": "code",
      "execution_count": 17,
      "metadata": {},
      "outputs": [
        {
          "name": "stdout",
          "output_type": "stream",
          "text": [
            "Bucle ejecutado por: 0 vez\n",
            "Bucle ejecutado por: 1 vez\n",
            "Bucle ejecutado por: 2 vez\n",
            "Bucle ejecutado por: 3 vez\n",
            "Bucle ejecutado por: 4 vez\n",
            "Bucle ejecutado por: 1 vez evitando la parte de abajo\n",
            "Bucle ejecutado por: 5 vez\n",
            "Bucle ejecutado por: 2 vez evitando la parte de abajo\n",
            "Bucle ejecutado por: 6 vez\n",
            "Bucle ejecutado por: 3 vez evitando la parte de abajo\n",
            "Bucle ejecutado por: 7 vez\n",
            "Bucle ejecutado por: 4 vez evitando la parte de abajo\n",
            "Bucle ejecutado por: 8 vez\n",
            "Bucle ejecutado por: 5 vez evitando la parte de abajo\n",
            "Bucle ejecutado por: 9 vez\n"
          ]
        }
      ],
      "source": [
        "#continue\n",
        "for i in range(10):\n",
        "    if(i>=5):\n",
        "        print(f\"Bucle ejecutado por: {i-4} vez evitando la parte de abajo\")\n",
        "        continue #Voy a volver al bucle \n",
        "    print(f\"Bucle ejecutado por: {i} vez\")"
      ]
    },
    {
      "cell_type": "code",
      "execution_count": null,
      "metadata": {},
      "outputs": [],
      "source": [
        "#pass\n",
        "for i in range(10):\n",
        "    pass"
      ]
    }
  ],
  "metadata": {
    "interpreter": {
      "hash": "3ef525aed409cc5a13783047c8d4d090b051bbc20387ad523d849e44a70e3fe1"
    },
    "kernelspec": {
      "display_name": "Python 3.10.4 64-bit",
      "language": "python",
      "name": "python3"
    },
    "language_info": {
      "codemirror_mode": {
        "name": "ipython",
        "version": 3
      },
      "file_extension": ".py",
      "mimetype": "text/x-python",
      "name": "python",
      "nbconvert_exporter": "python",
      "pygments_lexer": "ipython3",
      "version": "3.10.5"
    },
    "orig_nbformat": 4
  },
  "nbformat": 4,
  "nbformat_minor": 4
}
