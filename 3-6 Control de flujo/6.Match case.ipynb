{
  "cells": [
    {
      "cell_type": "code",
      "execution_count": 4,
      "metadata": {},
      "outputs": [
        {
          "name": "stdout",
          "output_type": "stream",
          "text": [
            "Tenemos un 1\n"
          ]
        }
      ],
      "source": [
        "#For in range\n",
        "def menu(valor):\n",
        "    match valor:\n",
        "        case 0:\n",
        "            print(\"Tenemos un 0\")\n",
        "        case 1:\n",
        "            print(\"Tenemos un 1\")\n",
        "        case default:\n",
        "            print(\"No tenemos ni un 0 ni un 1\")\n",
        "\n",
        "valor=int(input(\"Por favor brinde un valor: \"))#ingrese un valor\n",
        "menu(valor)"
      ]
    }
  ],
  "metadata": {
    "interpreter": {
      "hash": "3ef525aed409cc5a13783047c8d4d090b051bbc20387ad523d849e44a70e3fe1"
    },
    "kernelspec": {
      "display_name": "Python 3.10.4 64-bit",
      "language": "python",
      "name": "python3"
    },
    "language_info": {
      "codemirror_mode": {
        "name": "ipython",
        "version": 3
      },
      "file_extension": ".py",
      "mimetype": "text/x-python",
      "name": "python",
      "nbconvert_exporter": "python",
      "pygments_lexer": "ipython3",
      "version": "3.10.5"
    },
    "orig_nbformat": 4
  },
  "nbformat": 4,
  "nbformat_minor": 4
}
