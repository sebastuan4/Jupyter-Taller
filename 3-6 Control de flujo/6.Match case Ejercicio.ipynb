{
  "cells": [
    {
      "cell_type": "code",
      "execution_count": null,
      "metadata": {},
      "outputs": [],
      "source": [
        "\"\"\"\n",
        "A continuacion se le pedira crear una funcion que ejecute las tareas basicas de una calculadora (Suma,Resta,Multiplicacio,Division)\n",
        "Esta debera contar con un switch(match case) como menu de opciones el cual tendra como argumento una variable que acepte\n",
        "un input del usuario y dos numeros ejemplo (opcion, num1, num2)\n",
        "Debe crear un menu por cada tarea y una opcion por defecto ademas de retornar el resultado de cada opcion\n",
        "\"\"\""
      ]
    },
    {
      "cell_type": "code",
      "execution_count": 33,
      "metadata": {},
      "outputs": [
        {
          "name": "stdout",
          "output_type": "stream",
          "text": [
            "No se puede dividir por 0\n"
          ]
        }
      ],
      "source": [
        "def Calculadora (opcion, num1,num2):\n",
        "    match opcion:\n",
        "        case \"+\":\n",
        "            return num1+num2\n",
        "        case \"-\":\n",
        "            return num1-num2\n",
        "        case \"*\":\n",
        "            return num1*num2\n",
        "        case \"/\":\n",
        "            if num2==0:\n",
        "                return \"No se puede dividir por 0\"\n",
        "            else:\n",
        "                return num1/num2\n",
        "        case default:\n",
        "            return \"Error seleccione una opcion valida\"\n",
        "num1=int(input(\"brinde el numero 1\"))\n",
        "opcion=input (\"+ para suma - para resta * para multiplicacion y / para division\")\n",
        "num2=int(input(\"brinde el numero 1\"))\n",
        "print(Calculadora(opcion,num1,num2))"
      ]
    }
  ],
  "metadata": {
    "interpreter": {
      "hash": "3ef525aed409cc5a13783047c8d4d090b051bbc20387ad523d849e44a70e3fe1"
    },
    "kernelspec": {
      "display_name": "Python 3.10.4 64-bit",
      "language": "python",
      "name": "python3"
    },
    "language_info": {
      "codemirror_mode": {
        "name": "ipython",
        "version": 3
      },
      "file_extension": ".py",
      "mimetype": "text/x-python",
      "name": "python",
      "nbconvert_exporter": "python",
      "pygments_lexer": "ipython3",
      "version": "3.10.5"
    },
    "orig_nbformat": 4
  },
  "nbformat": 4,
  "nbformat_minor": 4
}
