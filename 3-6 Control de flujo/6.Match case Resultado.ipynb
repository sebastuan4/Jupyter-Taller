{
  "cells": [
    {
      "cell_type": "code",
      "execution_count": null,
      "metadata": {},
      "outputs": [],
      "source": [
        "\"\"\"\n",
        "A continuacion se le pedira crear una funcion que ejecute las tareas basicas de una calculadora (Suma,Resta,Multiplicacio,Division)\n",
        "Esta debera contar con un switch(match case) como menu de opciones el cual tendra como argumento una variable que acepte\n",
        "un input del usuario y dos numeros ejemplo (opcion, num1, num2)\n",
        "Debe crear un menu por cada tarea y una opcion por defecto ademas de retornar el resultado de cada opcion\n",
        "\"\"\"\n",
        "\n",
        "#Crear un if que vea que num1 es mayor a num2, si esto se cumple hacer la resta y si no regresar un error\n"
      ]
    },
    {
      "cell_type": "code",
      "execution_count": null,
      "metadata": {},
      "outputs": [],
      "source": [
        "def calculadora(opcion,num1,num2):\n",
        "    match opcion:\n",
        "        case 1:\n",
        "            return num1+num2\n",
        "        case 2:\n",
        "            return num1-num2\n",
        "        case 3: \n",
        "            return num1*num2\n",
        "        case 4:\n",
        "            if(num2==0):\n",
        "                return \"Error no se puede dividir entre 0\"\n",
        "            else:\n",
        "                return num1/num2\n",
        "        case default:\n",
        "            return \"No elegio una opcion valida\"\n",
        "calculadora(\n",
        "    int(input(\"1.Suma, 2.Resta, 3.Multiplicacion, 4.Division\")),\n",
        "    int(input(\"Ingrese numero 1\")),\n",
        "    int(input(\"Ingrese numero 2\"))\n",
        ")"
      ]
    }
  ],
  "metadata": {
    "interpreter": {
      "hash": "3ef525aed409cc5a13783047c8d4d090b051bbc20387ad523d849e44a70e3fe1"
    },
    "kernelspec": {
      "display_name": "Python 3.10.4 64-bit",
      "language": "python",
      "name": "python3"
    },
    "language_info": {
      "codemirror_mode": {
        "name": "ipython",
        "version": 3
      },
      "file_extension": ".py",
      "mimetype": "text/x-python",
      "name": "python",
      "nbconvert_exporter": "python",
      "pygments_lexer": "ipython3",
      "version": "3.10.5"
    },
    "orig_nbformat": 4
  },
  "nbformat": 4,
  "nbformat_minor": 4
}
