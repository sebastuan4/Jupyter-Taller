{
 "cells": [
  {
   "cell_type": "code",
   "execution_count": 6,
   "metadata": {},
   "outputs": [
    {
     "name": "stdout",
     "output_type": "stream",
     "text": [
      "A\n",
      "r\n",
      "t\n",
      "i\n",
      "c\n",
      "u\n",
      "l\n",
      "o\n",
      " \n",
      "1\n"
     ]
    }
   ],
   "source": [
    "def generador(*cosas): #El * sirve para definir que la funcion va a tener un numero indeterminado \n",
    "                        #de parametros todo termina en una tupla\n",
    "    for articulos in cosas:\n",
    "        #for letras in articulos: Yiel from elimina la necesidad de un segundo bucle\n",
    "        yield from articulos #Yield es la palabra caracteristica de un generador\n",
    "\n",
    "cosasRegresadas=generador(\"Articulo 1\",\"Articulo 2\",\"Articulo 3\",\"Articulo 4\",\"Articulo 5\",)\n",
    "for i in range(10):\n",
    "    print(next(cosasRegresadas))\n"
   ]
  }
 ],
 "metadata": {
  "kernelspec": {
   "display_name": "Python 3.10.5 64-bit",
   "language": "python",
   "name": "python3"
  },
  "language_info": {
   "codemirror_mode": {
    "name": "ipython",
    "version": 3
   },
   "file_extension": ".py",
   "mimetype": "text/x-python",
   "name": "python",
   "nbconvert_exporter": "python",
   "pygments_lexer": "ipython3",
   "version": "3.10.5"
  },
  "orig_nbformat": 4,
  "vscode": {
   "interpreter": {
    "hash": "3ef525aed409cc5a13783047c8d4d090b051bbc20387ad523d849e44a70e3fe1"
   }
  }
 },
 "nbformat": 4,
 "nbformat_minor": 2
}
