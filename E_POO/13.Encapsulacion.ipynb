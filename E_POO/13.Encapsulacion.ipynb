{
 "cells": [
  {
   "cell_type": "code",
   "execution_count": 6,
   "metadata": {},
   "outputs": [
    {
     "name": "stdout",
     "output_type": "stream",
     "text": [
      "Juan\n"
     ]
    }
   ],
   "source": [
    "class persona(): #Encapsulacion es una forma de asegurar variables\n",
    "    nombre=\"Juan\"\n",
    "    apellido=\"Sanchez\"\n",
    "    edad=18\n",
    "    __estado=\"existiendo\" #Encapsulacion, osea esta variable es mas segura\n",
    "    def estudiar():\n",
    "        persona.__estado=\"estudiando\"\n",
    "        return persona.__estado\n",
    "    def caminar():\n",
    "        persona.__estado=\"caminando\"\n",
    "        return persona.__estado\n",
    "    def __estado():  \n",
    "        print(persona.__estado)\n",
    "\n",
    "print(persona.nombre)\n"
   ]
  },
  {
   "cell_type": "code",
   "execution_count": 4,
   "metadata": {},
   "outputs": [
    {
     "name": "stdout",
     "output_type": "stream",
     "text": [
      "Juan\n"
     ]
    },
    {
     "ename": "AttributeError",
     "evalue": "type object 'persona' has no attribute '__estado'",
     "output_type": "error",
     "traceback": [
      "\u001b[1;31m---------------------------------------------------------------------------\u001b[0m",
      "\u001b[1;31mAttributeError\u001b[0m                            Traceback (most recent call last)",
      "\u001b[1;32mc:\\Users\\sebas\\Desktop\\Jupyter\\13.Encapsulacion.ipynb Cell 2'\u001b[0m in \u001b[0;36m<cell line: 2>\u001b[1;34m()\u001b[0m\n\u001b[0;32m      <a href='vscode-notebook-cell:/c%3A/Users/sebas/Desktop/Jupyter/13.Encapsulacion.ipynb#ch0000001?line=0'>1</a>\u001b[0m \u001b[39mprint\u001b[39m(persona\u001b[39m.\u001b[39mnombre)\n\u001b[1;32m----> <a href='vscode-notebook-cell:/c%3A/Users/sebas/Desktop/Jupyter/13.Encapsulacion.ipynb#ch0000001?line=1'>2</a>\u001b[0m \u001b[39mprint\u001b[39m(persona\u001b[39m.\u001b[39;49m__estado)\n",
      "\u001b[1;31mAttributeError\u001b[0m: type object 'persona' has no attribute '__estado'"
     ]
    }
   ],
   "source": [
    "print(persona.nombre)\n",
    "print(persona.__estado)"
   ]
  }
 ],
 "metadata": {
  "interpreter": {
   "hash": "3ef525aed409cc5a13783047c8d4d090b051bbc20387ad523d849e44a70e3fe1"
  },
  "kernelspec": {
   "display_name": "Python 3.10.4 64-bit",
   "language": "python",
   "name": "python3"
  },
  "language_info": {
   "codemirror_mode": {
    "name": "ipython",
    "version": 3
   },
   "file_extension": ".py",
   "mimetype": "text/x-python",
   "name": "python",
   "nbconvert_exporter": "python",
   "pygments_lexer": "ipython3",
   "version": "3.10.5"
  },
  "orig_nbformat": 4
 },
 "nbformat": 4,
 "nbformat_minor": 2
}
