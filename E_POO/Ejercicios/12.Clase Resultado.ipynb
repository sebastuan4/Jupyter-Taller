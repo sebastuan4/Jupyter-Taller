{
 "cells": [
  {
   "cell_type": "code",
   "execution_count": null,
   "metadata": {},
   "outputs": [],
   "source": [
    "\"\"\"\n",
    "Se requiere que cree una clase llamada auto, con una variable llamada velocidad con valor de 120 y una lista vaci\n",
    "esta clase tendra una funcion llamada frenar la cual disminuira con un bucle(for o while) la velocidad\n",
    "La velocidad disminuira en 5 por cada instancia del bucle y guardara en una lista las velocidades hasta llegar a 0\n",
    "\n",
    "Se recomienda restar 5 la velocidad antes de tratar de hacer el append a la lista\n",
    "return lista\n",
    "\"\"\""
   ]
  },
  {
   "cell_type": "code",
   "execution_count": 7,
   "metadata": {},
   "outputs": [
    {
     "data": {
      "text/plain": [
       "[115,\n",
       " 110,\n",
       " 105,\n",
       " 100,\n",
       " 95,\n",
       " 90,\n",
       " 85,\n",
       " 80,\n",
       " 75,\n",
       " 70,\n",
       " 65,\n",
       " 60,\n",
       " 55,\n",
       " 50,\n",
       " 45,\n",
       " 40,\n",
       " 35,\n",
       " 30,\n",
       " 25,\n",
       " 20,\n",
       " 15,\n",
       " 10,\n",
       " 5,\n",
       " 0]"
      ]
     },
     "execution_count": 7,
     "metadata": {},
     "output_type": "execute_result"
    }
   ],
   "source": [
    "class auto():\n",
    "    velocidad=120\n",
    "    velocidades=[]\n",
    "    def frenar():\n",
    "        while True:\n",
    "            auto.velocidad-=5\n",
    "            auto.velocidades.append(auto.velocidad)\n",
    "            if auto.velocidad==0:\n",
    "                return auto.velocidades\n",
    "                \n",
    "\n",
    "auto.frenar()"
   ]
  }
 ],
 "metadata": {
  "interpreter": {
   "hash": "3ef525aed409cc5a13783047c8d4d090b051bbc20387ad523d849e44a70e3fe1"
  },
  "kernelspec": {
   "display_name": "Python 3.10.4 64-bit",
   "language": "python",
   "name": "python3"
  },
  "language_info": {
   "codemirror_mode": {
    "name": "ipython",
    "version": 3
   },
   "file_extension": ".py",
   "mimetype": "text/x-python",
   "name": "python",
   "nbconvert_exporter": "python",
   "pygments_lexer": "ipython3",
   "version": "3.10.5"
  },
  "orig_nbformat": 4
 },
 "nbformat": 4,
 "nbformat_minor": 2
}
