{
 "cells": [
  {
   "cell_type": "code",
   "execution_count": 9,
   "metadata": {},
   "outputs": [],
   "source": [
    "class persona(): #Padre\n",
    "    nombre=\"Juan\"\n",
    "    apellido=\"Sanchez\"\n",
    "    edad=18\n",
    "    _estado=\"existiendo\"\n",
    "    def dormir():\n",
    "        persona._estado=\"dormir\"\n",
    "        return persona._estado\n",
    "    def caminar():\n",
    "        persona._estado=\"caminando\"\n",
    "        return persona._estado\n",
    "    def estado():  \n",
    "        print(persona._estado)\n",
    "\n",
    "class trabajador(persona):#Hijo\n",
    "    def trabajando():\n",
    "        _estado=\"Trabajando\"\n",
    "        return _estado\n",
    "\n",
    "class voluntario(trabajador):#Hija\n",
    "    def voluntariado():\n",
    "        voluntario.v_ins._estado=\"Voluntario\"\n",
    "        return voluntario.v_ins._estado\n",
    "    \n"
   ]
  },
  {
   "cell_type": "code",
   "execution_count": 11,
   "metadata": {},
   "outputs": [
    {
     "ename": "AttributeError",
     "evalue": "type object 'trabajador' has no attribute '__edad'",
     "output_type": "error",
     "traceback": [
      "\u001b[1;31m---------------------------------------------------------------------------\u001b[0m",
      "\u001b[1;31mAttributeError\u001b[0m                            Traceback (most recent call last)",
      "\u001b[1;32mc:\\Users\\sebas\\Desktop\\Jupyter\\14.Herencia copy.ipynb Cell 2'\u001b[0m in \u001b[0;36m<cell line: 1>\u001b[1;34m()\u001b[0m\n\u001b[1;32m----> <a href='vscode-notebook-cell:/c%3A/Users/sebas/Desktop/Jupyter/14.Herencia%20copy.ipynb#ch0000001?line=0'>1</a>\u001b[0m \u001b[39mprint\u001b[39m(trabajador\u001b[39m.\u001b[39;49m__edad)\n\u001b[0;32m      <a href='vscode-notebook-cell:/c%3A/Users/sebas/Desktop/Jupyter/14.Herencia%20copy.ipynb#ch0000001?line=2'>3</a>\u001b[0m \u001b[39mprint\u001b[39m(voluntario)\n",
      "\u001b[1;31mAttributeError\u001b[0m: type object 'trabajador' has no attribute '__edad'"
     ]
    }
   ],
   "source": [
    "print(trabajador.)\n",
    "\n",
    "print(voluntario.)"
   ]
  }
 ],
 "metadata": {
  "interpreter": {
   "hash": "3ef525aed409cc5a13783047c8d4d090b051bbc20387ad523d849e44a70e3fe1"
  },
  "kernelspec": {
   "display_name": "Python 3.10.4 64-bit",
   "language": "python",
   "name": "python3"
  },
  "language_info": {
   "codemirror_mode": {
    "name": "ipython",
    "version": 3
   },
   "file_extension": ".py",
   "mimetype": "text/x-python",
   "name": "python",
   "nbconvert_exporter": "python",
   "pygments_lexer": "ipython3",
   "version": "3.10.5"
  },
  "orig_nbformat": 4
 },
 "nbformat": 4,
 "nbformat_minor": 2
}
