{
 "cells": [
  {
   "cell_type": "code",
   "execution_count": 1,
   "metadata": {},
   "outputs": [],
   "source": [
    "class persona():\n",
    "    nombre=\"Juan\"\n",
    "    apellido=\"Sanchez\"\n",
    "    edad=18\n",
    "    _estado=\"existiendo\"\n",
    "    def dormir():\n",
    "        persona._estado=\"dormir\"\n",
    "        return persona._estado\n",
    "    def caminar():\n",
    "        persona._estado=\"caminando\"\n",
    "        return persona._estado\n",
    "    def estado():  \n",
    "        print(persona._estado)\n",
    "\n",
    "class trabajador(persona):\n",
    "    def trabajando():\n",
    "        _estado=\"Trabajando\"\n",
    "        return _estado\n",
    "\n",
    "class voluntario():\n",
    "    def voluntariado():\n",
    "        voluntario.v_ins._estado=\"Voluntario\"\n",
    "        return voluntario.v_ins._estado\n",
    "    \n"
   ]
  },
  {
   "cell_type": "code",
   "execution_count": 2,
   "metadata": {},
   "outputs": [
    {
     "name": "stdout",
     "output_type": "stream",
     "text": [
      "Trabajando\n",
      "Voluntario\n"
     ]
    }
   ],
   "source": [
    "print(trabajador)\n",
    "\n",
    "print(voluntario.dormir())"
   ]
  }
 ],
 "metadata": {
  "interpreter": {
   "hash": "3ef525aed409cc5a13783047c8d4d090b051bbc20387ad523d849e44a70e3fe1"
  },
  "kernelspec": {
   "display_name": "Python 3.10.4 64-bit",
   "language": "python",
   "name": "python3"
  },
  "language_info": {
   "codemirror_mode": {
    "name": "ipython",
    "version": 3
   },
   "file_extension": ".py",
   "mimetype": "text/x-python",
   "name": "python",
   "nbconvert_exporter": "python",
   "pygments_lexer": "ipython3",
   "version": "3.10.5"
  },
  "orig_nbformat": 4
 },
 "nbformat": 4,
 "nbformat_minor": 2
}
