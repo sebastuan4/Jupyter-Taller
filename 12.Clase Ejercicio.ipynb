{
 "cells": [
  {
   "cell_type": "code",
   "execution_count": null,
   "metadata": {},
   "outputs": [],
   "source": [
    "\"\"\"\n",
    "Se requiere que cree una clase llamada auto, con una variable llamada velocidad con valor de 120 \n",
    "esta clase tendra una funcion llamada frenar la cual disminuira con un bucle(for o while) la velocidad\n",
    "La velocidad disminuira en 5 por cada instancia del bucle y guardara en una lista las velocidades hasta llegar a 0\n",
    "return lista\n",
    "\"\"\""
   ]
  },
  {
   "cell_type": "code",
   "execution_count": 9,
   "metadata": {},
   "outputs": [
    {
     "name": "stdout",
     "output_type": "stream",
     "text": [
      "El auto esta parado\n",
      "[115, 110, 105, 100, 95, 90, 85, 80, 75, 70, 65, 60, 55, 50, 45, 40, 35, 30, 25, 20, 15, 10, 5, 0]\n"
     ]
    }
   ],
   "source": [
    "class auto():\n",
    "    velocidad = 90100000000000000000000000000000000000000000\n",
    "    vel=[]\n",
    "    def frenar():\n",
    "        while True:\n",
    "            auto.velocidad-=5\n",
    "            auto.vel.append(auto.velocidad)\n",
    "            if auto.velocidad == 0:\n",
    "                print(\"El auto esta parado\")\n",
    "                break\n",
    "auto.frenar()\n",
    "print(auto.vel)\n"
   ]
  },
  {
   "cell_type": "code",
   "execution_count": 13,
   "metadata": {},
   "outputs": [
    {
     "name": "stdout",
     "output_type": "stream",
     "text": [
      "El auto esta parado\n",
      "[115, 110, 105, 100, 95, 90, 85, 80, 75, 70, 65, 60, 55, 50, 45, 40, 35, 30, 25, 20, 15, 10, 5, 0]\n"
     ]
    }
   ],
   "source": [
    "class auto():\n",
    "    velocidad = 1200000000000\n",
    "    vel=[]\n",
    "    def frenar():\n",
    "        for velocidad in range(120):\n",
    "            auto.velocidad -= 5 \n",
    "            auto.vel.append(auto.velocidad)\n",
    "            if auto.velocidad == 0:\n",
    "                print(\"El auto esta parado\")\n",
    "                break\n",
    "auto.frenar()\n",
    "print(auto.vel)"
   ]
  }
 ],
 "metadata": {
  "interpreter": {
   "hash": "3ef525aed409cc5a13783047c8d4d090b051bbc20387ad523d849e44a70e3fe1"
  },
  "kernelspec": {
   "display_name": "Python 3.10.4 64-bit",
   "language": "python",
   "name": "python3"
  },
  "language_info": {
   "codemirror_mode": {
    "name": "ipython",
    "version": 3
   },
   "file_extension": ".py",
   "mimetype": "text/x-python",
   "name": "python",
   "nbconvert_exporter": "python",
   "pygments_lexer": "ipython3",
   "version": "3.10.5"
  },
  "orig_nbformat": 4
 },
 "nbformat": 4,
 "nbformat_minor": 2
}
