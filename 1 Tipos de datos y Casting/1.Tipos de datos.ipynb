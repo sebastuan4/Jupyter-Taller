{
  "cells": [
    {
      "cell_type": "code",
      "execution_count": 1,
      "metadata": {
        "trusted": true
      },
      "outputs": [
        {
          "name": "stdout",
          "output_type": "stream",
          "text": [
            "Suma: 9\n",
            "Resta: 1\n",
            "Division: 1.25\n",
            "Multiplicacion: 20\n",
            "Modulo: 1\n",
            "Division entera: 1\n",
            "Exponente: 256\n",
            "igual que: False\n",
            "Mayor que: False\n",
            "Diferente que: True\n",
            "Mayor igual que: True\n",
            "4\n",
            "5.0\n",
            "4\n"
          ]
        }
      ],
      "source": [
        "#Esto es un comentario, no se ejecutara en el codigo y sera como podremos comunicarnos entre programadores\n",
        "#Tipos de variables:\n",
        "variableString = 'Soy un texto'\n",
        "variableFloat = 4\n",
        "variableInt = 5\n",
        "variableBool = True\n",
        "#Tipos de operadores:\n",
        "#Aritmeticos\n",
        "print(\"Suma: \"+str(5+4))\n",
        "print(\"Resta: \"+str(5-4))\n",
        "print(\"Division: \"+str(5/4))\n",
        "print(\"Multiplicacion: \"+str(5*4))\n",
        "print(\"Modulo: \"+str(5%4))\n",
        "print(\"Division entera: \"+str(5//4))\n",
        "print(\"Exponente: \"+str(4**4))\n",
        "#Comparadores\n",
        "print(\"igual que: \"+str(variableInt==variableFloat))\n",
        "print(\"Mayor que: \"+str(variableFloat>variableInt))\n",
        "print(\"Diferente que: \"+str(variableInt!=variableFloat))\n",
        "print(\"Mayor igual que: \"+str(variableInt>=variableFloat))\n",
        "#Casting\n",
        "#int o enteros = numeros naturales(4, 5, 8)\n",
        "#float o de comilla flotante(4.5, 8.9)\n",
        "#str texto (\"Soy un texto\")\n",
        "\n",
        "int(\"7\")#7\n",
        "str(7)#\"7\"\n",
        "float(75)#7.0\n",
        "int(10.5)#10\n",
        "\n",
        "print(int(variableFloat))\n",
        "print(float(variableInt))\n",
        "print(str(variableFloat))\n"
      ]
    },
    {
      "cell_type": "code",
      "execution_count": 4,
      "metadata": {},
      "outputs": [
        {
          "name": "stdout",
          "output_type": "stream",
          "text": [
            "75.2\n"
          ]
        }
      ],
      "source": []
    }
  ],
  "metadata": {
    "interpreter": {
      "hash": "3ef525aed409cc5a13783047c8d4d090b051bbc20387ad523d849e44a70e3fe1"
    },
    "kernelspec": {
      "display_name": "Python 3.10.5 64-bit",
      "language": "python",
      "name": "python3"
    },
    "language_info": {
      "codemirror_mode": {
        "name": "ipython",
        "version": 3
      },
      "file_extension": ".py",
      "mimetype": "text/x-python",
      "name": "python",
      "nbconvert_exporter": "python",
      "pygments_lexer": "ipython3",
      "version": "3.10.5"
    }
  },
  "nbformat": 4,
  "nbformat_minor": 4
}
