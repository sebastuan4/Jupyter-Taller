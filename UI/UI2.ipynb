{
 "cells": [
  {
   "cell_type": "code",
   "execution_count": 1,
   "metadata": {},
   "outputs": [],
   "source": [
    "from tkinter import * #Importamos la libreria de tkinter de la cual podemos hacer las interfaces graficas\n",
    "from Colors import * #Importamos con el uso de modulos los colores\n"
   ]
  },
  {
   "cell_type": "code",
   "execution_count": 2,
   "metadata": {},
   "outputs": [],
   "source": [
    "from tkinter import messagebox\n",
    "root = Tk()\n",
    "#Variable tkinter\n",
    "respuesta = StringVar()\n",
    "def Llamada():\n",
    "   respuesta.set(messagebox.askyesno(\"Cuidado\",\"Desea realizar los cambios?\"))\n",
    "#Definiendo\n",
    "lbl_resultado=Label(root,textvariable=respuesta)\n",
    "btn_llamada=Button(root,text=\"Clic\",command=Llamada)\n",
    "#Mostrando\n",
    "lbl_resultado.pack()\n",
    "btn_llamada.pack()\n",
    "root.mainloop()"
   ]
  },
  {
   "cell_type": "code",
   "execution_count": null,
   "metadata": {},
   "outputs": [],
   "source": [
    "menu = Tk()\n",
    "var=StringVar()\n",
    "Radiobutton(menu,text=\"Texto a mostrar\",variable=var,value=\"Verdadero 1\").pack()\n",
    "Radiobutton(menu,text=\"Texto a mostrar 2\",variable=var,value=\"Verdadero 2\").pack()\n",
    "lbl_Label=Label(menu,textvariable=var).pack()\n",
    "menu.mainloop()"
   ]
  },
  {
   "cell_type": "code",
   "execution_count": 5,
   "metadata": {},
   "outputs": [],
   "source": [
    "#Text Box o entry\n",
    "root = Tk()\n",
    "#Variable tkinter\n",
    "respuesta = StringVar()\n",
    "var=StringVar()\n",
    "def Llamada():\n",
    "   MostrarCambios(respuesta.set(messagebox.askyesno(\"Cuidado\",\"Desea realizar los cambios?\")))\n",
    "def MostrarCambios(valor):\n",
    "    if valor==1:\n",
    "        messagebox.showinfo(\"Se ha seleccionado\",f\"Se selecciono el siguiente valor: {var.get()}\")\n",
    "    else:\n",
    "        messagebox.showinfo(\"No se ha seleccionado\",f\"No se selecciono el siguiente valor: {var.get()}\")\n",
    "#Definiendo\n",
    "rad1=Radiobutton(root,text=\"Texto a mostrar\",variable=var,value=\"Verdadero 1\")\n",
    "rad2=Radiobutton(root,text=\"Texto a mostrar 2\",variable=var,value=\"Verdadero 2\")\n",
    "lbl_resultado=Label(root,textvariable=respuesta)\n",
    "btn_llamada=Button(root,text=\"Clic\",command=Llamada)\n",
    "#Mostrando\n",
    "rad1.pack()\n",
    "rad2.pack()\n",
    "lbl_resultado.pack()\n",
    "btn_llamada.pack()\n",
    "root.mainloop()"
   ]
  },
  {
   "cell_type": "code",
   "execution_count": 9,
   "metadata": {},
   "outputs": [],
   "source": [
    "#Group Box\n",
    "from tkinter.ttk import Labelframe\n",
    "root = Tk()\n",
    "#Definiendo variables tkinter\n",
    "var=StringVar()\n",
    "grb=Labelframe(root,text=\"Text\",pad=20)\n",
    "btn_Boton=Button(grb,text=\"Texto en frame\")\n",
    "grb.pack(padx=5,pady=5)\n",
    "btn_Boton.pack()\n",
    "root.mainloop()"
   ]
  },
  {
   "cell_type": "code",
   "execution_count": 12,
   "metadata": {},
   "outputs": [],
   "source": [
    "#Frames\n",
    "#Funciones\n",
    "root=Tk()\n",
    "def open():\n",
    "    #Definiendo\n",
    "    frm2=Toplevel()\n",
    "    btn_cerrar= Button(frm2,text=\"Cerrar\",command=frm2.destroy)\n",
    "    #Mostrando\n",
    "    btn_cerrar.pack()\n",
    "#Definiendo\n",
    "btn_abrir = Button(root,text=\"Abrir\",command=open)\n",
    "#Mostrando\n",
    "btn_abrir.pack()\n",
    "root.mainloop()\n",
    "       "
   ]
  },
  {
   "cell_type": "code",
   "execution_count": 13,
   "metadata": {},
   "outputs": [],
   "source": [
    "#Sliders\n",
    "root = Tk()\n",
    "#Definimos variable tkinter\n",
    "num=IntVar()\n",
    "#Definiendo\n",
    "scale=Scale(root,from_=100,to=0)\n",
    "#Mostrando\n",
    "scale.pack()\n",
    "root.mainloop()"
   ]
  },
  {
   "cell_type": "code",
   "execution_count": null,
   "metadata": {},
   "outputs": [],
   "source": [
    "#Ejericio "
   ]
  }
 ],
 "metadata": {
  "kernelspec": {
   "display_name": "Python 3.10.5 64-bit",
   "language": "python",
   "name": "python3"
  },
  "language_info": {
   "codemirror_mode": {
    "name": "ipython",
    "version": 3
   },
   "file_extension": ".py",
   "mimetype": "text/x-python",
   "name": "python",
   "nbconvert_exporter": "python",
   "pygments_lexer": "ipython3",
   "version": "3.10.5"
  },
  "orig_nbformat": 4,
  "vscode": {
   "interpreter": {
    "hash": "3ef525aed409cc5a13783047c8d4d090b051bbc20387ad523d849e44a70e3fe1"
   }
  }
 },
 "nbformat": 4,
 "nbformat_minor": 2
}
