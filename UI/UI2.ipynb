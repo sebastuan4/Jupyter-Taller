{
 "cells": [
  {
   "cell_type": "code",
   "execution_count": 2,
   "metadata": {},
   "outputs": [],
   "source": [
    "from tkinter import * #Importamos la libreria de tkinter de la cual podemos hacer las interfaces graficas\n",
    "from Colors import * #Importamos con el uso de modulos los colores\n"
   ]
  },
  {
   "cell_type": "code",
   "execution_count": 63,
   "metadata": {},
   "outputs": [],
   "source": [
    "from tkinter import messagebox\n",
    "root = Tk()\n",
    "#Variable tkinter\n",
    "respuesta = StringVar()#Variables especiales de tkinter asignar var.set() obtener var.get()\n",
    "def Llamada():\n",
    "   respuesta.set(messagebox.askokcancel(\"Microsoft Excel\",\"Aqui ya ahi datos, desea remplazarlos?\"))\n",
    "#Definiendo\n",
    "lbl_resultado=Label(root,textvariable=respuesta)\n",
    "btn_llamada=Button(root,text=\"Clic\",command=Llamada)\n",
    "#Mostrando\n",
    "lbl_resultado.pack()\n",
    "btn_llamada.pack()\n",
    "root.mainloop()"
   ]
  },
  {
   "cell_type": "code",
   "execution_count": 62,
   "metadata": {},
   "outputs": [],
   "source": [
    "#Radio Button\n",
    "menu = Tk()\n",
    "#Variables de tkinter\n",
    "var=StringVar()\n",
    "#Definiciones\n",
    "v1 = Radiobutton(menu,text=\"Texto a mostrar\",variable=var,value=\"Verdadero 1\")\n",
    "v2 =Radiobutton(menu,text=\"Texto a mostrar 2\",variable=var,value=\"Verdadero 2\")\n",
    "var.set(\"Verdadero 3\")\n",
    "lbl_Label=Label(menu,textvariable=var)\n",
    "#Mostrando\n",
    "v1.pack()\n",
    "v2.pack()\n",
    "lbl_Label.pack()\n",
    "menu.mainloop()"
   ]
  },
  {
   "cell_type": "code",
   "execution_count": 64,
   "metadata": {},
   "outputs": [],
   "source": [
    "#Radio & Message\n",
    "root = Tk()\n",
    "#Variable tkinter #\n",
    "var=StringVar()\n",
    "def Llamada():\n",
    "   valor = messagebox.askyesno(\"Cuidado\",\"Desea realizar los cambios?\")\n",
    "   MostrarCambios(valor)\n",
    "\n",
    "def MostrarCambios(valor):\n",
    "    if valor==1:#PARA BOOLEANOS 1 ES SI\n",
    "        messagebox.showinfo(\"Se ha seleccionado\",f\"Se selecciono el siguiente valor: {var.get()}\")\n",
    "    elif valor==0:\n",
    "        messagebox.showinfo(\"No se ha seleccionado\",f\"No se selecciono el siguiente valor: {var.get()}\")\n",
    "#Definiendo\n",
    "rad1=Radiobutton(root,text=\"Texto a mostrar\",variable=var,value=\"Verdadero 1\")\n",
    "rad2=Radiobutton(root,text=\"Texto a mostrar 2\",variable=var,value=\"Verdadero 2\")\n",
    "lbl_resultado=Label(root,textvariable=respuesta)\n",
    "btn_llamada=Button(root,text=\"Clic\",command=Llamada)\n",
    "#Mostrando\n",
    "rad1.pack()\n",
    "rad2.pack()\n",
    "lbl_resultado.pack()\n",
    "btn_llamada.pack()\n",
    "root.mainloop()"
   ]
  },
  {
   "cell_type": "code",
   "execution_count": 68,
   "metadata": {},
   "outputs": [],
   "source": [
    "#GroupBox\n",
    "from tkinter.ttk import Labelframe\n",
    "root = Tk()\n",
    "#Definiendo variables tkinter\n",
    "var=StringVar()\n",
    "grb=Labelframe(root,text=\"dededede\",pad=20)\n",
    "btn_Boton=Button(grb,text=\"Texto en frame\")\n",
    "grb.pack(padx=5,pady=5)\n",
    "btn_Boton.pack()\n",
    "root.mainloop()"
   ]
  },
  {
   "cell_type": "code",
   "execution_count": 71,
   "metadata": {},
   "outputs": [],
   "source": [
    "#Frames\n",
    "#Funciones\n",
    "root=Tk()\n",
    "def open():\n",
    "    #Definiendo\n",
    "    frm2=Toplevel() #\n",
    "    btn_cerrar= Button(frm2,text=\"Cerrar\",command=frm2.destroy)\n",
    "    #Mostrando\n",
    "    btn_cerrar.pack()\n",
    "#Definiendo\n",
    "btn_abrir = Button(root,text=\"Abrir\",command=open)\n",
    "#Mostrando\n",
    "btn_abrir.pack()\n",
    "root.mainloop()\n",
    "       "
   ]
  },
  {
   "cell_type": "code",
   "execution_count": 82,
   "metadata": {},
   "outputs": [],
   "source": [
    "#Sliders\n",
    "root = Tk()\n",
    "#Definimos variable tkinter\n",
    "num=IntVar()\n",
    "#Definiendo\n",
    "scale=Scale(root,from_=100,tickinterval=50,to=0,sliderlength=5)\n",
    "#Mostrando\n",
    "scale.pack()\n",
    "root.mainloop()\n"
   ]
  },
  {
   "cell_type": "code",
   "execution_count": 84,
   "metadata": {},
   "outputs": [],
   "source": [
    "#Password Entry\n",
    "\n",
    "root = Tk()\n",
    "Entry(root,show=\"*\").pack()\n",
    "root.mainloop()"
   ]
  },
  {
   "cell_type": "code",
   "execution_count": 3,
   "metadata": {},
   "outputs": [],
   "source": [
    "#Ejercicio\n",
    "registro = Tk()\n",
    "#Variables de tkinter\n",
    "monthV=StringVar()\n",
    "dayV=IntVar()\n",
    "yearV=IntVar()\n",
    "gender=StringVar()\n",
    "#Definiciones\n",
    "frmR=LabelFrame(registro)\n",
    "txt_FirstName=Entry(frmR)\n",
    "txt_LastName=Entry(frmR)\n",
    "txt_Email=Entry(frmR)\n",
    "txt_Password=Entry(frmR,show=\"*\")\n",
    "month=OptionMenu(frmR,monthV,\"mes\",\"mes2\")\n",
    "day=OptionMenu(frmR,dayV,\"1\",\"2\")\n",
    "year=OptionMenu(frmR,yearV,\"2001\",\"2002\")\n",
    "rda_Female=Radiobutton(frmR,text=\"Femenino\",variable=gender,value=\"Femenino\")\n",
    "rda_Male=Radiobutton(frmR,text=\"Masculino\",variable=gender,value=\"Masculino\")\n",
    "rda_Custom=Radiobutton(frmR,text=\"Otro\",variable=gender,value=\"Otro\")\n",
    "#Sets & Inserts\n",
    "txt_FirstName.insert(0,\"FirstName\")\n",
    "txt_LastName.insert(0,\"LastName\")\n",
    "txt_Email.insert(0,\"Email\")\n",
    "txt_Password.insert(0,\"Password\")\n",
    "monthV.set(\"Month\")\n",
    "dayV.set(\"Day\")\n",
    "yearV.set(\"Year\")\n",
    "gender.set(\"Nf4f4l\")\n",
    "#Mostrar\n",
    "frmR.grid(column=0,row=0)\n",
    "txt_FirstName.grid(column=0,row=0)\n",
    "txt_LastName.grid(column=1,row=0)\n",
    "txt_Email.grid(column=0,row=1)\n",
    "txt_Password.grid(column=0,row=2)\n",
    "month.grid(column=0,row=3)\n",
    "day.grid(column=1,row=3)\n",
    "year.grid(column=2,row=3)\n",
    "rda_Female.grid(column=0,row=4)\n",
    "rda_Male.grid(column=1,row=4)\n",
    "rda_Custom.grid(column=2,row=4)\n",
    "registro.mainloop()"
   ]
  }
 ],
 "metadata": {
  "kernelspec": {
   "display_name": "Python 3.10.5 64-bit",
   "language": "python",
   "name": "python3"
  },
  "language_info": {
   "codemirror_mode": {
    "name": "ipython",
    "version": 3
   },
   "file_extension": ".py",
   "mimetype": "text/x-python",
   "name": "python",
   "nbconvert_exporter": "python",
   "pygments_lexer": "ipython3",
   "version": "3.10.5"
  },
  "orig_nbformat": 4,
  "vscode": {
   "interpreter": {
    "hash": "3ef525aed409cc5a13783047c8d4d090b051bbc20387ad523d849e44a70e3fe1"
   }
  }
 },
 "nbformat": 4,
 "nbformat_minor": 2
}
