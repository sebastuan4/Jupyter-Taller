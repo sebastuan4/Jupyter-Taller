{
 "cells": [
  {
   "cell_type": "code",
   "execution_count": 14,
   "metadata": {},
   "outputs": [],
   "source": [
    "from tkinter import * #Importamos la libreria de tkinter de la cual podemos hacer las interfaces graficas\n",
    "from Colors import * #Importamos con el uso de modulos los colores"
   ]
  },
  {
   "cell_type": "code",
   "execution_count": 4,
   "metadata": {},
   "outputs": [],
   "source": [
    "#Con esto podemos crear un frame, en este caso llamando root\n",
    "root = Tk()\n",
    "#De esta forma hacemos el frame con un loop para que no se cierre una vez se crea\n",
    "root.mainloop()"
   ]
  },
  {
   "cell_type": "code",
   "execution_count": 6,
   "metadata": {},
   "outputs": [],
   "source": [
    "#Labels\n",
    "root = Tk()\n",
    "lbl_mi_label=Label(root,text=\"Hola mundo!\").pack()\n",
    "root.mainloop()"
   ]
  },
  {
   "cell_type": "code",
   "execution_count": 7,
   "metadata": {},
   "outputs": [],
   "source": [
    "#Text Box o entry\n",
    "root = Tk()\n",
    "txt_mi_text_box=Entry(root).pack()\n",
    "root.mainloop()"
   ]
  },
  {
   "cell_type": "code",
   "execution_count": 8,
   "metadata": {},
   "outputs": [],
   "source": [
    "#Botones\n",
    "root = Tk()\n",
    "btn_mi_boton=Button(root,text=\"Mi boton\").pack()\n",
    "root.mainloop()"
   ]
  },
  {
   "cell_type": "code",
   "execution_count": 9,
   "metadata": {},
   "outputs": [],
   "source": [
    "#Actualizar datos en tiempo real\n",
    "root = Tk()\n",
    "var1=IntVar()#Variables de tkinter\n",
    "var=StringVar()#Variables de tkinter\n",
    "txt_mi_text_box=Entry(root,textvariable=var).pack()\n",
    "lbl_label_resultado=Label(root,textvariable=var).pack()\n",
    "root.mainloop()"
   ]
  },
  {
   "cell_type": "code",
   "execution_count": 12,
   "metadata": {},
   "outputs": [],
   "source": [
    "#Actualizar datos con set y get\n",
    "root = Tk()\n",
    "var=StringVar()\n",
    "#Funciones\n",
    "def actualizar():\n",
    "    var.set(txt_mi_text_box.get())\n",
    "    #String = hola String.set(\"Adios\") String=\"Adios\"\n",
    "#Definiciones\n",
    "txt_mi_text_box=Entry(root)\n",
    "btn_mi_boton=Button(root,text=\"Mi boton\",command=actualizar)\n",
    "lbl_label_resultado=Label(root,textvariable=var)\n",
    "\n",
    "#Mostrar pack()\n",
    "txt_mi_text_box.pack()\n",
    "btn_mi_boton.pack()\n",
    "lbl_label_resultado.pack()\n",
    "root.mainloop()"
   ]
  },
  {
   "cell_type": "code",
   "execution_count": 24,
   "metadata": {},
   "outputs": [],
   "source": [
    "#Opciones Visuales\n",
    "root = Tk()\n",
    "root.config(bg=frm.Background)\n",
    "root.title(\"Titulo personalizado\")\n",
    "root.resizable(1,1) #0 0 0 1 1 0\n",
    "root.iconbitmap(r\"C:\\Users\\sebas\\Desktop\\Jupyter\\UI\\img\\Menu.ico\")\n",
    "root.geometry(\"1360x720\")\n",
    "btn_visual=Button(root,text=\"Texto\",bg=btn.BackGround,fg=btn.ForeGround,width=btn.Width,activebackground=btn.HoverBG).pack()\n",
    "root.mainloop()"
   ]
  }
 ],
 "metadata": {
  "kernelspec": {
   "display_name": "Python 3.10.5 64-bit",
   "language": "python",
   "name": "python3"
  },
  "language_info": {
   "codemirror_mode": {
    "name": "ipython",
    "version": 3
   },
   "file_extension": ".py",
   "mimetype": "text/x-python",
   "name": "python",
   "nbconvert_exporter": "python",
   "pygments_lexer": "ipython3",
   "version": "3.10.5"
  },
  "orig_nbformat": 4,
  "vscode": {
   "interpreter": {
    "hash": "3ef525aed409cc5a13783047c8d4d090b051bbc20387ad523d849e44a70e3fe1"
   }
  }
 },
 "nbformat": 4,
 "nbformat_minor": 2
}
