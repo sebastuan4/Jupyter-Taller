{
 "cells": [
  {
   "cell_type": "code",
   "execution_count": 32,
   "metadata": {},
   "outputs": [
    {
     "name": "stdout",
     "output_type": "stream",
     "text": [
      "['Buenos Aires']\n",
      "{'Costa Rica': ['San Jose', 'Cartago'], 'Estados Unidos': ['California', 'New Jersey', 'Alaska', 'etc...'], 'Argentina': ['Buenos Aires']}\n"
     ]
    }
   ],
   "source": [
    "#Diccionarops son mutables\n",
    "#Definiendo un Diccionario\n",
    "Diccionario={} #Diccionario vacio\n",
    "Ciudades={\"Costa Rica\":[\"San Jose\",\"Alajuela\",\"Cartago\"],\"Estados Unidos\":[\"California\",\"New Jersey\",\"Alaska\",\"etc...\"]}\n",
    "Ciudades2={\"Ciudades\":[\"San Jose\",\"Alajuela\",\"Cartago\",\"California\",\"New Jersey\",\"Alaska\",\"etc...\"]}#No tiene sentido\n",
    "#print(Ciudades.keys())\n",
    "#print(Ciudades.values())\n",
    "#print(Ciudades[\"Costa Rica\"])\n",
    "Ciudades[\"Argentina\"]=[\"Buenos Aires\"] #Argentina:[Buenos Aires,Cordoba]\n",
    "#print(Ciudades)\n",
    "Ciudades[\"Argentina\"].append(\"Cordoba\")\n",
    "#print(Ciudades[\"Argentina\"])\n",
    "Ciudades[\"Argentina\"][1]=\"Tokyo\"\n",
    "#print(Ciudades[\"Argentina\"])\n",
    "Ciudades[\"Argentina\"].pop() #Elimina el ultimo digito\n",
    "print(Ciudades[\"Argentina\"])\n",
    "\n",
    "\n",
    "Ciudades[\"Costa Rica\"].remove(\"Alajuela\")\n",
    "print(Ciudades)\n"
   ]
  },
  {
   "cell_type": "code",
   "execution_count": null,
   "metadata": {},
   "outputs": [],
   "source": [
    "#Cree un diccionario con clave: cedula y valor: datos del cliente, ingrese al menos 3 clientes con informacion como: edad, ocupacion, ingresos"
   ]
  },
  {
   "cell_type": "code",
   "execution_count": null,
   "metadata": {},
   "outputs": [],
   "source": [
    "Clientes={121314:[23, \"administrador\",500.000,\"CRC\"],131415:[12,\"estudiante\",0.00,\"Null\"],161718:[45, \"gerente\", 1000000,\"USD\"]}"
   ]
  },
  {
   "cell_type": "code",
   "execution_count": 35,
   "metadata": {},
   "outputs": [],
   "source": [
    "valor=9\n",
    "if valor==9:\n",
    "    print(\"Soy 9\")\n",
    "\n",
    "\"\" ''"
   ]
  }
 ],
 "metadata": {
  "interpreter": {
   "hash": "3ef525aed409cc5a13783047c8d4d090b051bbc20387ad523d849e44a70e3fe1"
  },
  "kernelspec": {
   "display_name": "Python 3.10.4 64-bit",
   "language": "python",
   "name": "python3"
  },
  "language_info": {
   "codemirror_mode": {
    "name": "ipython",
    "version": 3
   },
   "file_extension": ".py",
   "mimetype": "text/x-python",
   "name": "python",
   "nbconvert_exporter": "python",
   "pygments_lexer": "ipython3",
   "version": "3.10.5"
  },
  "orig_nbformat": 4
 },
 "nbformat": 4,
 "nbformat_minor": 2
}
