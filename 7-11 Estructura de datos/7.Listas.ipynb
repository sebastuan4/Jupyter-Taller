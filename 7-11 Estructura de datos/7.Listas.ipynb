{
 "cells": [
  {
   "cell_type": "code",
   "execution_count": 33,
   "metadata": {},
   "outputs": [
    {
     "name": "stdout",
     "output_type": "stream",
     "text": [
      "Marzo\n"
     ]
    },
    {
     "data": {
      "text/plain": [
       "['Febrero',\n",
       " 'Marzo',\n",
       " 'Abril',\n",
       " 'Mayo',\n",
       " 'Junio',\n",
       " 'Julio',\n",
       " 'Agosto',\n",
       " 'Septiembre',\n",
       " 'Octubre',\n",
       " 'Noviembre',\n",
       " 'Diciembre']"
      ]
     },
     "execution_count": 33,
     "metadata": {},
     "output_type": "execute_result"
    }
   ],
   "source": [
    "#Listas\n",
    "#Definiendo una lista\n",
    "lista=[] #Lista vacia \n",
    "trigjrigjrig=[0,1,2,3,4,5,6,7,8,9,10,11]\n",
    "meses=[\"Enero\",\"Febrero\",\"Marzo\",\"Abril\",'Mayo','Junio','Julio','Agosto','Septiembre','Octubre','Noviembre','Diciembre',\"9\"]\n",
    "#print(meses[1]) #0\n",
    "#print(meses[5:9]) #El slicing no es inclusivo \n",
    "#print(meses[-5]) #Con valores negativos el la lista se recorre desde atras\n",
    "#print(len(meses)) #Imprimir el largo de la lista\n",
    "meses.append(\"mes 13\")#Agrega a la lista un valor\n",
    "#print(meses)\n",
    "#print(meses[-1])\n",
    "meses.pop()#Elimina de la lista el ultimo valor\n",
    "#print(meses[-1])\n",
    "meses.remove(\"Enero\")#Elimina un valor de una lista dependiendo del parametro\n",
    "print(meses[1])\n",
    "meses\n",
    "\n"
   ]
  }
 ],
 "metadata": {
  "interpreter": {
   "hash": "3ef525aed409cc5a13783047c8d4d090b051bbc20387ad523d849e44a70e3fe1"
  },
  "kernelspec": {
   "display_name": "Python 3.10.4 64-bit",
   "language": "python",
   "name": "python3"
  },
  "language_info": {
   "codemirror_mode": {
    "name": "ipython",
    "version": 3
   },
   "file_extension": ".py",
   "mimetype": "text/x-python",
   "name": "python",
   "nbconvert_exporter": "python",
   "pygments_lexer": "ipython3",
   "version": "3.10.5"
  },
  "orig_nbformat": 4
 },
 "nbformat": 4,
 "nbformat_minor": 2
}
