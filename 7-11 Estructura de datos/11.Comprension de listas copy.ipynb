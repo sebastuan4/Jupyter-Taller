{
 "cells": [
  {
   "cell_type": "code",
   "execution_count": 20,
   "metadata": {},
   "outputs": [
    {
     "name": "stdout",
     "output_type": "stream",
     "text": [
      "[4, 6, 8, 10, 12]\n",
      "101\n",
      "[101, 404]\n",
      "[3, 4]\n"
     ]
    }
   ],
   "source": [
    "#Listas\n",
    "numero=[2,3,4,5,6]\n",
    "numero = [numeros*2 for numeros in numero]\n",
    "print(numero)\n",
    "#Diccionario\n",
    "clientes = {101:[15,\"Marta\",\"Soltera\"],112:[34,\"Alejandro\",\"Casado\"],404:[12,\"Matias\",\"Soltero\"]}\n",
    "indexes=list(clientes.keys())\n",
    "print(indexes[0])\n",
    "menores = [index for index in indexes if clientes[index][0]<18]\n",
    "print(menores)\n",
    "#Tuplas\n",
    "numero=(2,3,4,5,6)\n",
    "mayores = [numeros for numeros in range(5) if numero[numeros]>4]\n",
    "print(mayores)"
   ]
  },
  {
   "cell_type": "code",
   "execution_count": 13,
   "metadata": {},
   "outputs": [
    {
     "name": "stdout",
     "output_type": "stream",
     "text": [
      "['A', 'B']\n",
      "['A', 'B']\n"
     ]
    }
   ],
   "source": [
    "#Definicion de las listas\n",
    "lista = [\"A\",\"B\",\"C\",\"D\"]\n",
    "indexAB = []\n",
    "\n",
    "#Ciclo for sin comprension de listas\n",
    "for letras in lista:\n",
    "    if letras == \"A\" or letras == \"B\":\n",
    "        indexAB.append(letras)\n",
    "print(indexAB)\n",
    "\n",
    "#Ciclo for con comprension de listas\n",
    "indexAB = [letras for letras in lista if letras == \"A\" or letras == \"B\" ]\n",
    "print(indexAB)"
   ]
  }
 ],
 "metadata": {
  "interpreter": {
   "hash": "3ef525aed409cc5a13783047c8d4d090b051bbc20387ad523d849e44a70e3fe1"
  },
  "kernelspec": {
   "display_name": "Python 3.10.4 64-bit",
   "language": "python",
   "name": "python3"
  },
  "language_info": {
   "codemirror_mode": {
    "name": "ipython",
    "version": 3
   },
   "file_extension": ".py",
   "mimetype": "text/x-python",
   "name": "python",
   "nbconvert_exporter": "python",
   "pygments_lexer": "ipython3",
   "version": "3.10.4"
  },
  "orig_nbformat": 4
 },
 "nbformat": 4,
 "nbformat_minor": 2
}
