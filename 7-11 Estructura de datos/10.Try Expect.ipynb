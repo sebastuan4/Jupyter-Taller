{
 "cells": [
  {
   "cell_type": "code",
   "execution_count": 5,
   "metadata": {},
   "outputs": [
    {
     "ename": "TypeError",
     "evalue": "unsupported operand type(s) for /: 'str' and 'int'",
     "output_type": "error",
     "traceback": [
      "\u001b[1;31m---------------------------------------------------------------------------\u001b[0m",
      "\u001b[1;31mTypeError\u001b[0m                                 Traceback (most recent call last)",
      "\u001b[1;32mc:\\Users\\sebas\\Jupyter-Taller-5\\10.Try Expect.ipynb Cell 1'\u001b[0m in \u001b[0;36m<cell line: 1>\u001b[1;34m()\u001b[0m\n\u001b[1;32m----> <a href='vscode-notebook-cell:/c%3A/Users/sebas/Jupyter-Taller-5/10.Try%20Expect.ipynb#ch0000000?line=0'>1</a>\u001b[0m \u001b[39m\"\u001b[39;49m\u001b[39ms\u001b[39;49m\u001b[39m\"\u001b[39;49m\u001b[39m/\u001b[39;49m\u001b[39m0\u001b[39;49m\n\u001b[0;32m      <a href='vscode-notebook-cell:/c%3A/Users/sebas/Jupyter-Taller-5/10.Try%20Expect.ipynb#ch0000000?line=1'>2</a>\u001b[0m \u001b[39mprint\u001b[39m(\u001b[39m\"\u001b[39m\u001b[39mhola mundo\u001b[39m\u001b[39m\"\u001b[39m)\n",
      "\u001b[1;31mTypeError\u001b[0m: unsupported operand type(s) for /: 'str' and 'int'"
     ]
    }
   ],
   "source": [
    "\"s\"/0\n",
    "print(\"hola mundo\")"
   ]
  },
  {
   "cell_type": "code",
   "execution_count": 3,
   "metadata": {},
   "outputs": [
    {
     "name": "stdout",
     "output_type": "stream",
     "text": [
      "No se puede dividir entre 0\n",
      "hola mundo\n"
     ]
    }
   ],
   "source": [
    "try:\n",
    "    \"s\"/0\n",
    "except ZeroDivisionError:\n",
    "    print(\"No se puede dividir entre 0\")\n",
    "except TypeError:\n",
    "    print(\"No se puede dividir letras entre numeros\")\n",
    "except:\n",
    "    print(\"No se cual es el error pero el programa continuara\")\n",
    "\n",
    "print(\"hola mundo\")\n",
    "\n"
   ]
  },
  {
   "cell_type": "code",
   "execution_count": null,
   "metadata": {},
   "outputs": [],
   "source": [
    "try:\n",
    "    #10/0\n",
    "    #print(\"Aqui se corta\")\n",
    "    \"text\"/2\n",
    "except ZeroDivisionError:\n",
    "    print(\"No se pude dividir entre 0\")\n",
    "except :\n",
    "    print(\"No se cual es el error pero el programa continuara\")\n",
    "print(\"El programa continua\")\n"
   ]
  }
 ],
 "metadata": {
  "interpreter": {
   "hash": "3ef525aed409cc5a13783047c8d4d090b051bbc20387ad523d849e44a70e3fe1"
  },
  "kernelspec": {
   "display_name": "Python 3.10.4 64-bit",
   "language": "python",
   "name": "python3"
  },
  "language_info": {
   "codemirror_mode": {
    "name": "ipython",
    "version": 3
   },
   "file_extension": ".py",
   "mimetype": "text/x-python",
   "name": "python",
   "nbconvert_exporter": "python",
   "pygments_lexer": "ipython3",
   "version": "3.10.5"
  },
  "orig_nbformat": 4
 },
 "nbformat": 4,
 "nbformat_minor": 2
}
