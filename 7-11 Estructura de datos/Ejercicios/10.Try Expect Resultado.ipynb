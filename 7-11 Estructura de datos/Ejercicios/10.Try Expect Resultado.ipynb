{
 "cells": [
  {
   "cell_type": "code",
   "execution_count": null,
   "metadata": {},
   "outputs": [],
   "source": [
    "\"\"\"\n",
    "Continuemos con la calculadora manejando posibles errores que se puedan generar\n",
    "Se le pedira crear manejo de exepciones para divisiones entre 0 y a la hora de convertir texto a numero\n",
    "Ademas de un default para cualquier tipo de problemas inesperados\n",
    "\"\"\""
   ]
  },
  {
   "cell_type": "code",
   "execution_count": 4,
   "metadata": {},
   "outputs": [
    {
     "name": "stdout",
     "output_type": "stream",
     "text": [
      "No se puede dividir entre 0\n"
     ]
    }
   ],
   "source": [
    "def calculadora(opcion,num1,num2):\n",
    "    try:\n",
    "        opcion=int(opcion)\n",
    "        num1=int(num1)\n",
    "        num2=int(num2)\n",
    "        match opcion:\n",
    "            case 1:\n",
    "                return num1+num2\n",
    "            case 2:\n",
    "                return num1-num2\n",
    "            case 3: \n",
    "                return num1*num2\n",
    "            case 4:\n",
    "                return num1/num2\n",
    "            case default:\n",
    "                return \"No elegio una opcion valida\"\n",
    "    except ZeroDivisionError:\n",
    "        print(\"No se puede dividir entre 0\")\n",
    "        return\n",
    "    except ValueError:\n",
    "        print(\"No se puede realizar operaciones entre texto y numero\")\n",
    "        return\n",
    "    except:\n",
    "        print(\"Se ha encontrado un error\")\n",
    "        return\n",
    "\n",
    "calculadora(\n",
    "    input(\"1.Suma, 2.Resta, 3.Multiplicacion, 4.Division\"),\n",
    "    input(\"Ingrese numero 1\"),\n",
    "    input(\"Ingrese numero 2\")\n",
    ")"
   ]
  }
 ],
 "metadata": {
  "interpreter": {
   "hash": "3ef525aed409cc5a13783047c8d4d090b051bbc20387ad523d849e44a70e3fe1"
  },
  "kernelspec": {
   "display_name": "Python 3.10.4 64-bit",
   "language": "python",
   "name": "python3"
  },
  "language_info": {
   "codemirror_mode": {
    "name": "ipython",
    "version": 3
   },
   "file_extension": ".py",
   "mimetype": "text/x-python",
   "name": "python",
   "nbconvert_exporter": "python",
   "pygments_lexer": "ipython3",
   "version": "3.10.5"
  },
  "orig_nbformat": 4
 },
 "nbformat": 4,
 "nbformat_minor": 2
}
