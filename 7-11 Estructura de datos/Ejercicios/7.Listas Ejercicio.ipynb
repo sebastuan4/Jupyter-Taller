{
 "cells": [
  {
   "cell_type": "code",
   "execution_count": 2,
   "metadata": {},
   "outputs": [],
   "source": [
    "\"\"\"\n",
    "Cree un bucle while o for para saber en que index se encuentra la ciudad del vaticano:\n",
    "en la lista sale como: 'Vatican City' pueden copiar y pegar para no tener errores\n",
    "\"\"\"\n",
    "\n",
    "paises = ['Japan', 'Indonesia', 'India', 'Philippines', 'Brazil',\n",
    "       'South Korea', 'Mexico', 'Egypt', 'United States', 'Russia',\n",
    "       'Thailand', 'Bangladesh', 'Argentina', 'Nigeria', 'Turkey',\n",
    "       'Pakistan', 'Congo (Kinshasa)', 'Vietnam', 'Iran',\n",
    "       'United Kingdom', 'France', 'Peru', 'Angola', 'Malaysia',\n",
    "       'Colombia', 'Tanzania', 'Hong Kong', 'Chile', 'Saudi Arabia',\n",
    "       'Iraq', 'Sudan', 'Spain', 'Kenya', 'Myanmar', 'Canada',\n",
    "       'Singapore', \"Côte d'Ivoire\", 'Australia', 'South Africa',\n",
    "       'Morocco', 'Afghanistan', 'Jordan', 'Germany', 'Algeria',\n",
    "       'Bolivia', 'Ethiopia', 'Kuwait', 'Ukraine', 'Yemen', 'Guatemala',\n",
    "       'Italy', 'North Korea', 'Taiwan', 'Ecuador', 'Madagascar',\n",
    "       'Dominican Republic', 'United Arab Emirates', 'Uzbekistan',\n",
    "       'Burkina Faso', 'Cameroon', 'Ghana', 'Azerbaijan', 'Zimbabwe',\n",
    "       'Cuba', 'Cambodia', 'Somalia', 'Mali', 'Belarus', 'Venezuela',\n",
    "       'Syria', 'Kazakhstan', 'Austria', 'Malawi', 'Romania',\n",
    "       'Congo (Brazzaville)', 'Poland', 'Belgium', 'Zambia', 'Hungary',\n",
    "       'Guinea', 'Uganda', 'Oman', 'Mongolia', 'Serbia', 'New Zealand',\n",
    "       'Czechia', 'Uruguay', 'Bulgaria', 'Honduras', 'Mozambique',\n",
    "       'Qatar', 'Senegal', 'Rwanda', 'Libya', 'Georgia', 'Chad',\n",
    "       'Denmark', 'Armenia', 'Mauritania', 'Kyrgyzstan', 'Tunisia',\n",
    "       'Nepal', 'Niger', 'Nicaragua', 'Liberia', 'Haiti', 'Sweden',\n",
    "       'Eritrea', 'Sierra Leone', 'Laos', 'Israel',\n",
    "       'Central African Republic', 'Panama', 'Netherlands', 'Togo',\n",
    "       'Gabon', 'Croatia', 'Tajikistan', 'Benin', 'Sri Lanka', 'Norway',\n",
    "       'Greece', 'Burundi', 'Finland', 'Macedonia', 'Moldova', 'Latvia',\n",
    "       'Jamaica', 'Lithuania', 'El Salvador', 'Djibouti', 'Ireland',\n",
    "       'Paraguay', 'Portugal', 'Slovakia', 'Estonia', 'Lebanon',\n",
    "       'Albania', 'Guinea-Bissau', 'South Sudan', 'Lesotho', 'Cyprus',\n",
    "       'Namibia', 'Papua New Guinea', 'Costa Rica', 'Slovenia',\n",
    "       'Bosnia And Herzegovina', 'The Bahamas', 'Martinique', 'Botswana',\n",
    "       'Suriname', 'Timor-Leste', 'Maldives', 'Guyana', 'Gibraltar',\n",
    "       'Reunion', 'Equatorial Guinea', 'Montenegro', 'Bahrain',\n",
    "       'Mauritius', 'Curaçao', 'Switzerland', 'French Polynesia',\n",
    "       'Luxembourg', 'Iceland', 'Cabo Verde', 'Barbados', 'Comoros',\n",
    "       'Bhutan', 'Swaziland', 'New Caledonia', 'Solomon Islands', 'Fiji',\n",
    "       'Saint Lucia', 'French Guiana', 'Sao Tome And Principe', 'Vanuatu',\n",
    "       'Bermuda', 'Brunei', 'Monaco', 'Trinidad And Tobago', 'Samoa',\n",
    "       'Kiribati', 'Aruba', 'Jersey', 'The Gambia', 'Mayotte',\n",
    "       'Marshall Islands', 'Isle Of Man', 'Cayman Islands', 'Seychelles',\n",
    "       'Saint Vincent And The Grenadines', 'Andorra',\n",
    "       'Antigua And Barbuda', 'Tonga', 'Turkmenistan', 'Greenland',\n",
    "       'Belize', 'Dominica', 'Saint Kitts And Nevis', 'Faroe Islands',\n",
    "       'American Samoa', 'Malta', 'Gaza Strip',\n",
    "       'Turks And Caicos Islands', 'Federated States of Micronesia',\n",
    "       'Tuvalu', 'Liechtenstein', 'Cook Islands', 'Grenada', 'San Marino',\n",
    "       'West Bank', 'Northern Mariana Islands',\n",
    "       'Falkland Islands (Islas Malvinas)', 'Vatican City', 'Niue',\n",
    "       'Guadeloupe', 'Guam', 'Saint Martin',\n",
    "       'Saint Helena, Ascension, And Tristan Da Cunha', 'Montserrat',\n",
    "       'Sint Maarten', 'Nauru', 'Kosovo', 'Saint Barthelemy',\n",
    "       'British Virgin Islands', 'Palau', 'Saint Pierre And Miquelon',\n",
    "       'Anguilla', 'Wallis And Futuna', 'Norfolk Island', 'Svalbard',\n",
    "       'Pitcairn Islands', 'Christmas Island',\n",
    "       'South Georgia And South Sandwich Islands', 'Macau', 'Puerto Rico',\n",
    "       'U.S. Virgin Islands',\"5\",6,7,8,9]"
   ]
  },
  {
   "cell_type": "code",
   "execution_count": 4,
   "metadata": {},
   "outputs": [
    {
     "name": "stdout",
     "output_type": "stream",
     "text": [
      "214\n"
     ]
    }
   ],
   "source": [
    "contador=0\n",
    "while True:\n",
    "    if paises[contador]=='Vatican City':\n",
    "        print(contador)\n",
    "        break\n",
    "    contador+=1"
   ]
  },
  {
   "cell_type": "code",
   "execution_count": null,
   "metadata": {},
   "outputs": [],
   "source": [
    "for index in range(len(paises)):\n",
    "    if paises[index]=='Vatican City':\n",
    "        print(index)\n",
    "        break"
   ]
  },
  {
   "cell_type": "code",
   "execution_count": 5,
   "metadata": {},
   "outputs": [
    {
     "name": "stdout",
     "output_type": "stream",
     "text": [
      "214\n"
     ]
    }
   ],
   "source": [
    "contador=0\n",
    "for lugares in paises:\n",
    "    if lugares==\"Vatican City\":\n",
    "        print(contador)\n",
    "        break\n",
    "    contador+=1\n",
    "    "
   ]
  },
  {
   "cell_type": "code",
   "execution_count": 6,
   "metadata": {},
   "outputs": [
    {
     "data": {
      "text/plain": [
       "239"
      ]
     },
     "execution_count": 6,
     "metadata": {},
     "output_type": "execute_result"
    }
   ],
   "source": []
  }
 ],
 "metadata": {
  "interpreter": {
   "hash": "3ef525aed409cc5a13783047c8d4d090b051bbc20387ad523d849e44a70e3fe1"
  },
  "kernelspec": {
   "display_name": "Python 3.10.4 64-bit",
   "language": "python",
   "name": "python3"
  },
  "language_info": {
   "codemirror_mode": {
    "name": "ipython",
    "version": 3
   },
   "file_extension": ".py",
   "mimetype": "text/x-python",
   "name": "python",
   "nbconvert_exporter": "python",
   "pygments_lexer": "ipython3",
   "version": "3.10.5"
  },
  "orig_nbformat": 4
 },
 "nbformat": 4,
 "nbformat_minor": 2
}
