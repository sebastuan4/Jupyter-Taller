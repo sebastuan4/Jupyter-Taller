{
 "cells": [
  {
   "cell_type": "code",
   "execution_count": 2,
   "metadata": {},
   "outputs": [
    {
     "name": "stdout",
     "output_type": "stream",
     "text": [
      "Febrero\n",
      "('Febrero', 'Marzo')\n",
      "Febrero\n",
      "13\n",
      "2\n",
      "('Enero', 'Febrero', 'Marzo', 'Abril', 'Mayo', 'Junio', 'Julio', 'Agosto', 'Septiembre', 'Octubre', 'Noviembre', 'Diciembre', 'Febrero')\n"
     ]
    }
   ],
   "source": [
    "#Tuplas son inmutables\n",
    "#Definiendo una Tupla\n",
    "tupla=() #Tupla vacia\n",
    "meses=(\"Enero\",\"Febrero\",\"Marzo\",\"Abril\",'Mayo','Junio','Julio','Agosto','Septiembre','Octubre','Noviembre','Diciembre',\"Febrero\")\n",
    "print(meses[1])\n",
    "print(meses[1:3])\n",
    "print(meses[-1])\n",
    "print(len(meses))\n",
    "print(meses.count('Febrero')) #Cuente cuantas veces esta un valor en una tupla\n",
    "print(meses)\n"
   ]
  }
 ],
 "metadata": {
  "interpreter": {
   "hash": "3ef525aed409cc5a13783047c8d4d090b051bbc20387ad523d849e44a70e3fe1"
  },
  "kernelspec": {
   "display_name": "Python 3.10.4 64-bit",
   "language": "python",
   "name": "python3"
  },
  "language_info": {
   "codemirror_mode": {
    "name": "ipython",
    "version": 3
   },
   "file_extension": ".py",
   "mimetype": "text/x-python",
   "name": "python",
   "nbconvert_exporter": "python",
   "pygments_lexer": "ipython3",
   "version": "3.10.5"
  },
  "orig_nbformat": 4
 },
 "nbformat": 4,
 "nbformat_minor": 2
}
