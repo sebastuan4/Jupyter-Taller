{
  "cells": [
    {
      "cell_type": "code",
      "execution_count": 5,
      "metadata": {},
      "outputs": [
        {
          "name": "stdout",
          "output_type": "stream",
          "text": [
            "Help on built-in function print in module builtins:\n",
            "\n",
            "print(...)\n",
            "    print(value, ..., sep=' ', end='\\n', file=sys.stdout, flush=False)\n",
            "    \n",
            "    Prints the values to a stream, or to sys.stdout by default.\n",
            "    Optional keyword arguments:\n",
            "    file:  a file-like object (stream); defaults to the current sys.stdout.\n",
            "    sep:   string inserted between values, default a space.\n",
            "    end:   string appended after the last value, default a newline.\n",
            "    flush: whether to forcibly flush the stream.\n",
            "\n"
          ]
        }
      ],
      "source": [
        "def EsteEsElNombre(arg1, arg2=5):\n",
        "    \"\"\"\n",
        "    Esto es un docstring, este texto sera desplegado cuando se use la funcion de ayuda\n",
        "    Dentro de las buenas practicas se explica la funcion y se muestra como funciona\n",
        "    \n",
        "    Esta funcion suma dos numeros:\n",
        "    >>>EsteEsElNombre(1,1)\n",
        "    2\n",
        "    \"\"\"\n",
        "    return(arg1+arg2)\n",
        "EsteEsElNombre(5)\n"
      ]
    },
    {
      "cell_type": "code",
      "execution_count": null,
      "metadata": {},
      "outputs": [],
      "source": [
        "def suma(num1,num2):\n",
        "    \"\"\"\n",
        "    Esta funcion suma dos numeros:\n",
        "    >>>suma(1,1)\n",
        "    2\n",
        "    \"\"\"\n",
        "    return(num1+num2)\n",
        "suma(1,1)\n"
      ]
    }
  ],
  "metadata": {
    "interpreter": {
      "hash": "3ef525aed409cc5a13783047c8d4d090b051bbc20387ad523d849e44a70e3fe1"
    },
    "kernelspec": {
      "display_name": "Python 3.10.5 64-bit",
      "language": "python",
      "name": "python3"
    },
    "language_info": {
      "codemirror_mode": {
        "name": "ipython",
        "version": 3
      },
      "file_extension": ".py",
      "mimetype": "text/x-python",
      "name": "python",
      "nbconvert_exporter": "python",
      "pygments_lexer": "ipython3",
      "version": "3.10.5"
    }
  },
  "nbformat": 4,
  "nbformat_minor": 4
}
