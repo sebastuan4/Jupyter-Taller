{
 "cells": [
  {
   "cell_type": "code",
   "execution_count": 3,
   "metadata": {},
   "outputs": [
    {
     "name": "stdout",
     "output_type": "stream",
     "text": [
      "10.0\n"
     ]
    }
   ],
   "source": [
    "#Expresiones anonimas o lambda es una funcion sin nombre\n",
    "#Simplifica el codigo\n",
    "def nombrefuncion(): return 2+2\n",
    "variable = nombrefuncion\n",
    "suma = lambda num,num2:num+num2\n",
    "suma(1,2)\n",
    "\n",
    "variable2 = lambda : 2+2\n",
    "\n",
    "area_triangulo= lambda base=2,altura=10:(base*altura)/2\n",
    "print(area_triangulo())"
   ]
  },
  {
   "cell_type": "code",
   "execution_count": 2,
   "metadata": {},
   "outputs": [
    {
     "name": "stdout",
     "output_type": "stream",
     "text": [
      "[10, 9, 8]\n"
     ]
    }
   ],
   "source": [
    "listaNumeros = [10,9,8,7,6,5]\n",
    "listaNueva=[numeros for numeros in listaNumeros if numeros>=8]#Verdadero\n",
    "print(listaNueva)\n",
    "\n",
    "\n",
    "vistas=[\"1\",\"2\"]\n",
    "nuevo = lista(map(lambda x:x.show(),vistas))"
   ]
  },
  {
   "cell_type": "code",
   "execution_count": 6,
   "metadata": {},
   "outputs": [
    {
     "data": {
      "text/plain": [
       "16.0"
      ]
     },
     "execution_count": 6,
     "metadata": {},
     "output_type": "execute_result"
    }
   ],
   "source": [
    "area_ronbo = lambda D,d:(D*d)/2\n",
    "area_ronbo(8,4)\n",
    "#Paso 1 nombre de variable\n",
    "#Paso 2 =\n",
    "#Paso 3 lambda\n",
    "#Paso 4 parametros separados por ,\n",
    "#Paso 5 :\n",
    "#Paso 6 resultado"
   ]
  },
  {
   "cell_type": "code",
   "execution_count": null,
   "metadata": {},
   "outputs": [],
   "source": [
    "def funcion(n):\n",
    "  return lambda a : a * n\n",
    "\n",
    "multiplicacion2 = funcion(2)\n",
    "multiplicacion3 = funcion(3)\n",
    "\n",
    "print(multiplicacion2(11))\n",
    "print(multiplicacion3(11))"
   ]
  }
 ],
 "metadata": {
  "kernelspec": {
   "display_name": "Python 3.10.5 64-bit",
   "language": "python",
   "name": "python3"
  },
  "language_info": {
   "codemirror_mode": {
    "name": "ipython",
    "version": 3
   },
   "file_extension": ".py",
   "mimetype": "text/x-python",
   "name": "python",
   "nbconvert_exporter": "python",
   "pygments_lexer": "ipython3",
   "version": "3.10.5"
  },
  "orig_nbformat": 4,
  "vscode": {
   "interpreter": {
    "hash": "3ef525aed409cc5a13783047c8d4d090b051bbc20387ad523d849e44a70e3fe1"
   }
  }
 },
 "nbformat": 4,
 "nbformat_minor": 2
}
