{
 "cells": [
  {
   "cell_type": "code",
   "execution_count": 3,
   "metadata": {},
   "outputs": [
    {
     "name": "stdout",
     "output_type": "stream",
     "text": [
      "10.0\n"
     ]
    }
   ],
   "source": [
    "#Expresiones anonimas o lambda es una funcion sin nombre\n",
    "#Simplifica el codigo\n",
    "\n",
    "area_triangulo= lambda base=2,altura=10:(base*altura)/2\n",
    "print(area_triangulo())"
   ]
  },
  {
   "cell_type": "code",
   "execution_count": 8,
   "metadata": {},
   "outputs": [
    {
     "name": "stdout",
     "output_type": "stream",
     "text": [
      "[3, 4, 5]\n",
      "[3, 4, 5]\n"
     ]
    }
   ],
   "source": [
    "my_list = [1, 2, 3, 4, 5]\n",
    "xs =list(filter(lambda x: x > 2, my_list))\n",
    "xs2 = [x for x in my_list if x > 2]\n",
    "print(xs)\n",
    "print(xs2)"
   ]
  },
  {
   "cell_type": "code",
   "execution_count": 2,
   "metadata": {},
   "outputs": [
    {
     "name": "stdout",
     "output_type": "stream",
     "text": [
      "10.0\n"
     ]
    }
   ],
   "source": [
    "#Def\n",
    "#Nombre\n",
    "#(Parametros):\n",
    "\n",
    "#Def-Lambda \n",
    "#Espacio vacio\n",
    "#Parametros\n",
    "#Funciones On the go\n",
    "def area_triangulo(base,altura):\n",
    "    return(base*altura)/2\n",
    "area2=area_triangulo\n",
    "area=lambda base,altura:(base*altura)/2\n",
    "print(area(base=2,altura=10))"
   ]
  },
  {
   "cell_type": "code",
   "execution_count": null,
   "metadata": {},
   "outputs": [],
   "source": [
    "def funcion(n):\n",
    "  return lambda a : a * n\n",
    "\n",
    "multiplicacion2 = funcion(2)\n",
    "multiplicacion3 = funcion(3)\n",
    "\n",
    "print(multiplicacion2(11))\n",
    "print(multiplicacion3(11))"
   ]
  }
 ],
 "metadata": {
  "kernelspec": {
   "display_name": "Python 3.10.5 64-bit",
   "language": "python",
   "name": "python3"
  },
  "language_info": {
   "codemirror_mode": {
    "name": "ipython",
    "version": 3
   },
   "file_extension": ".py",
   "mimetype": "text/x-python",
   "name": "python",
   "nbconvert_exporter": "python",
   "pygments_lexer": "ipython3",
   "version": "3.10.5"
  },
  "orig_nbformat": 4,
  "vscode": {
   "interpreter": {
    "hash": "3ef525aed409cc5a13783047c8d4d090b051bbc20387ad523d849e44a70e3fe1"
   }
  }
 },
 "nbformat": 4,
 "nbformat_minor": 2
}
