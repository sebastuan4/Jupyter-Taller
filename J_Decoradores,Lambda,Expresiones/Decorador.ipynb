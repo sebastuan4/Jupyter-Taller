{
 "cells": [
  {
   "cell_type": "code",
   "execution_count": null,
   "metadata": {},
   "outputs": [],
   "source": [
    "def funcionDecoradora(funcionParametro):#AB\n",
    "    def funcionInterna():#C\n",
    "        print(\"Voy a realizar un calculo\")\n",
    "        funcionParametro()\n",
    "        print(\"Ya termine\")\n",
    "    return funcionInterna\n",
    "\n",
    "@funcionDecoradora\n",
    "def suma():\n",
    "    print(20+30)\n",
    "\n",
    "@funcionDecoradora\n",
    "def resta():\n",
    "    print(20-30)\n",
    "suma()\n",
    "resta()"
   ]
  },
  {
   "cell_type": "code",
   "execution_count": null,
   "metadata": {},
   "outputs": [],
   "source": [
    "def funcionDecoradora(funcionParametro):#AB\n",
    "    def funcionInterna(*args, **kwargs):#C\n",
    "        print(\"Voy a realizar una accion\")\n",
    "        funcionParametro(*args, **kwargs)\n",
    "        print(\"Ya termine\")\n",
    "    return funcionInterna\n",
    "\n",
    "@funcionDecoradora\n",
    "def suma(num1,num2):\n",
    "    print(num1+num2)\n",
    "\n",
    "@funcionDecoradora\n",
    "def resta(num1,num2):\n",
    "    print(num1-num2)\n",
    "dic={}\n",
    "\n",
    "@funcionDecoradora\n",
    "def diccionario(**kwargs):\n",
    "    print(kwargs)\n",
    " \n",
    "suma(5,5)\n",
    "resta(10,5)\n",
    "diccionario(CostaRica=['Cartago','San jose'],USA='California')"
   ]
  }
 ],
 "metadata": {
  "kernelspec": {
   "display_name": "Python 3.10.5 64-bit",
   "language": "python",
   "name": "python3"
  },
  "language_info": {
   "codemirror_mode": {
    "name": "ipython",
    "version": 3
   },
   "file_extension": ".py",
   "mimetype": "text/x-python",
   "name": "python",
   "nbconvert_exporter": "python",
   "pygments_lexer": "ipython3",
   "version": "3.10.5"
  },
  "orig_nbformat": 4,
  "vscode": {
   "interpreter": {
    "hash": "3ef525aed409cc5a13783047c8d4d090b051bbc20387ad523d849e44a70e3fe1"
   }
  }
 },
 "nbformat": 4,
 "nbformat_minor": 2
}
