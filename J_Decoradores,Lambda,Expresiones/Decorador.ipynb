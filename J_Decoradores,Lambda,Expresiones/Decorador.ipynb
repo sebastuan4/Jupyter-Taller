{
 "cells": [
  {
   "cell_type": "code",
   "execution_count": null,
   "metadata": {},
   "outputs": [],
   "source": [
    "def funcionDecoradora(funcionParametro):\n",
    "    print(\"Voy a realizar un calculo\")\n",
    "    suma()\n",
    "    print(\"Ya termine\")\n",
    "\n",
    "def suma():\n",
    "    print(20+30)\n",
    "\n",
    "def resta():\n",
    "    print(20-30)\n",
    "\n",
    "suma()\n",
    "resta()"
   ]
  },
  {
   "cell_type": "code",
   "execution_count": 15,
   "metadata": {},
   "outputs": [
    {
     "name": "stdout",
     "output_type": "stream",
     "text": [
      "Voy a realizar un calculo\n",
      "4 es el resultado de la suma\n",
      "Ya termine el calculo\n",
      "Voy a realizar un calculo\n",
      "0 es el resultado de la suma\n",
      "Ya termine el calculo\n",
      "fefef\n"
     ]
    }
   ],
   "source": [
    "def plantilla(comodin): #comodin = resta\n",
    "    def funcionInterna():\n",
    "        print(\"Voy a realizar un calculo\")\n",
    "        comodin()#3->6\n",
    "        print(\"Ya termine el calculo\")\n",
    "    return funcionInterna()#10+1\n",
    "\n",
    "@plantilla#Funcion decoradora #suma\n",
    "def suma():\n",
    "    print(f\"{2+2} es el resultado de la suma\")#Ejecutar suma 3+1'\n",
    "\n",
    "@plantilla#Funcion decoradora #suma\n",
    "def resta():\n",
    "    print(f\"{2-2} es el resultado de la suma\")#Ejecutar suma 3+1\n",
    "\n",
    "suma#10->1\n",
    "print(\"fefef\")\n",
    "\n",
    "v1.1 6 meses\n",
    "v2.1\n"
   ]
  },
  {
   "cell_type": "code",
   "execution_count": 16,
   "metadata": {},
   "outputs": [
    {
     "name": "stdout",
     "output_type": "stream",
     "text": [
      "Voy a realizar un calculo\n",
      "50\n",
      "Ya termine\n",
      "Voy a realizar un calculo\n",
      "-10\n",
      "Ya termine\n"
     ]
    }
   ],
   "source": [
    "def funcionDecoradora(funcionParametro):#3 se llama al decorador con el parametro de la funcion\n",
    "    def funcionInterna():#4 Se llama a la funcion interna\n",
    "        print(\"Voy a realizar un calculo\")#5 Se imprime\n",
    "        funcionParametro()#6 se llama a suma()\n",
    "        print(\"Ya termine\")#9 se imprime\n",
    "    return funcionInterna#10 se termina\n",
    "\n",
    "@funcionDecoradora#2 Se llama al decorador\n",
    "def suma():#7 se ejecuta suma\n",
    "    print(20+30)#8 Se imprime\n",
    "\n",
    "@funcionDecoradora\n",
    "def resta():\n",
    "    print(20-30)\n",
    "suma()#1 se llama a suma\n",
    "resta()"
   ]
  },
  {
   "cell_type": "code",
   "execution_count": null,
   "metadata": {},
   "outputs": [],
   "source": [
    "def numero1(numero_dos):\n",
    "    def funcionInterna():\n",
    "        numero_dos()\n",
    "        print(\"Numero dos se termino de ejecutar\")\n",
    "    return funcionInterna\n",
    "\n",
    "@numero1\n",
    "def numero2():\n",
    "    print(\"Me ejecute\")\n",
    "\n",
    "numero2()"
   ]
  },
  {
   "cell_type": "code",
   "execution_count": null,
   "metadata": {},
   "outputs": [],
   "source": [
    "def funcionDecoradora(funcionParametro):#AB\n",
    "    def funcionInterna(*args, **kwargs):#C\n",
    "        print(\"Voy a realizar una accion\")\n",
    "        funcionParametro(*args, **kwargs)\n",
    "        print(\"Ya termine\")\n",
    "    return funcionInterna\n",
    "\n",
    "@funcionDecoradora\n",
    "def suma(num1,num2):\n",
    "    print(num1+num2)\n",
    "\n",
    "@funcionDecoradora\n",
    "def resta(num1,num2):\n",
    "    print(num1-num2)\n",
    "dic={}\n",
    "\n",
    "@funcionDecoradora\n",
    "def diccionario(**kwargs):\n",
    "    print(kwargs)\n",
    " \n",
    "suma(5,5)\n",
    "resta(10,5)\n",
    "diccionario(CostaRica=['Cartago','San jose'],USA='California')"
   ]
  }
 ],
 "metadata": {
  "kernelspec": {
   "display_name": "Python 3.10.5 64-bit",
   "language": "python",
   "name": "python3"
  },
  "language_info": {
   "codemirror_mode": {
    "name": "ipython",
    "version": 3
   },
   "file_extension": ".py",
   "mimetype": "text/x-python",
   "name": "python",
   "nbconvert_exporter": "python",
   "pygments_lexer": "ipython3",
   "version": "3.10.5"
  },
  "orig_nbformat": 4,
  "vscode": {
   "interpreter": {
    "hash": "3ef525aed409cc5a13783047c8d4d090b051bbc20387ad523d849e44a70e3fe1"
   }
  }
 },
 "nbformat": 4,
 "nbformat_minor": 2
}
