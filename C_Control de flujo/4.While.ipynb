{
  "cells": [
    {
      "cell_type": "code",
      "execution_count": null,
      "metadata": {},
      "outputs": [],
      "source": [
        "#While \n",
        "def hasta10(contador=0):\n",
        "    \"\"\"\n",
        "    Ejecuta el bucle hasta que contador sea = a 10\n",
        "    \"\"\"\n",
        "    while contador<=10:\n",
        "        print(f\"Bucle ejecutado por: {contador} vez\")\n",
        "        contador+=1\n",
        "hasta10()"
      ]
    },
    {
      "cell_type": "code",
      "execution_count": null,
      "metadata": {},
      "outputs": [],
      "source": [
        "#While infinito (peligroso)\n",
        "def hasta10(contador=0):\n",
        "    \"\"\"\n",
        "    Ejecuta el bucle infinitamente\n",
        "    \"\"\"\n",
        "    while True: #sera infinito \n",
        "        print(f\"Bucle ejecutado por: {contador} vez\")\n",
        "        contador+=1\n",
        "hasta10(1)"
      ]
    },
    {
      "cell_type": "code",
      "execution_count": 6,
      "metadata": {},
      "outputs": [
        {
          "name": "stdout",
          "output_type": "stream",
          "text": [
            "Bucle ejecutado por: 1 vez\n"
          ]
        }
      ],
      "source": [
        "#While infinito (controlado)\n",
        "def hasta10(contador=0):\n",
        "    \"\"\"\n",
        "    Ejecuta el bucle hasta que contador sea = a 10\n",
        "    \"\"\"\n",
        "    while True:\n",
        "        print(f\"Bucle ejecutado por: {contador+1} vez\")\n",
        "        contador+=1\n",
        "        if(contador==10):\n",
        "            break\n",
        "hasta10()"
      ]
    }
  ],
  "metadata": {
    "interpreter": {
      "hash": "3ef525aed409cc5a13783047c8d4d090b051bbc20387ad523d849e44a70e3fe1"
    },
    "kernelspec": {
      "display_name": "Python 3.10.4 64-bit",
      "language": "python",
      "name": "python3"
    },
    "language_info": {
      "codemirror_mode": {
        "name": "ipython",
        "version": 3
      },
      "file_extension": ".py",
      "mimetype": "text/x-python",
      "name": "python",
      "nbconvert_exporter": "python",
      "pygments_lexer": "ipython3",
      "version": "3.10.5"
    }
  },
  "nbformat": 4,
  "nbformat_minor": 4
}
