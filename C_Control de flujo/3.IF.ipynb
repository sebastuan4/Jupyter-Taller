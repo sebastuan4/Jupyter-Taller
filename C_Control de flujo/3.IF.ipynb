{
  "cells": [
    {
      "cell_type": "code",
      "execution_count": null,
      "metadata": {
        "trusted": true
      },
      "outputs": [],
      "source": [
        "#De esta forma podemos imprimir en pantalla lo que necesitamos\n",
        "num1=8\n",
        "print(\"El numero es: \"+str(num1)+\" texto final\") #Esta se encuentra en 1.Tipos de datos\n",
        "print(f\"El numero es: {num1} texto final\") #Esta es otra manera de imprimir variables junto con texto \n",
        "print(r\"C:\\Users\\sebas\\Desktop\\Jupyter\\6.Match case Resultado.ipynb\")#R para rutas \n"
      ]
    },
    {
      "cell_type": "code",
      "execution_count": 7,
      "metadata": {
        "trusted": true
      },
      "outputs": [
        {
          "data": {
            "text/plain": [
              "'El numero no es 4'"
            ]
          },
          "execution_count": 7,
          "metadata": {},
          "output_type": "execute_result"
        }
      ],
      "source": [
        "#Condicional If\n",
        "def num4(num1,num2):\n",
        "    if((num1+num2)==4):\n",
        "        return(\"El numero es 4\")\n",
        "    return(\"El numero no es 4\")\n",
        "num4(2,8)"
      ]
    },
    {
      "cell_type": "code",
      "execution_count": null,
      "metadata": {
        "trusted": true
      },
      "outputs": [],
      "source": [
        "def num4(num1,num2): \n",
        "    \"\"\"\n",
        "    Toma dos numeros, los suma y luego ve si es 4\n",
        "    >>>num4(2,2)\n",
        "    \"El numero es 4\"\n",
        "    \"\"\"\n",
        "    if((num1+num2)==4): #si se cumple esto;\n",
        "        return(\"El numero es 4\") #hago esto\n",
        "    else:\n",
        "        return(\"El numero no es 4\")#esto de aqui abajo\n",
        "num4(2,2)"
      ]
    },
    {
      "cell_type": "code",
      "execution_count": 10,
      "metadata": {
        "trusted": true
      },
      "outputs": [
        {
          "data": {
            "text/plain": [
              "'El numero es 4'"
            ]
          },
          "execution_count": 10,
          "metadata": {},
          "output_type": "execute_result"
        }
      ],
      "source": [
        "#Else If\n",
        "def num4(num1,num2):\n",
        "    \"\"\"\n",
        "    Toma dos numeros, los suma y luego ve si es 4, si no lo es imprime cuanto falta para llegar al 4\n",
        "    >>>num4(2,2)\n",
        "    \"El numero es 4\"\n",
        "    \"\"\"\n",
        "    if((num1+num2)==4):#hago esto si se cumple el criterio\n",
        "        return(\"El numero es 4\")\n",
        "    elif((num1+num2)>4):#hago esto si se cumple el critero\n",
        "        return(f\"El numero no es 4, por favor resta {(num1+num2)-4}\")\n",
        "    else:#hago esto si todo fallo\n",
        "        return(f\"El numero no es 4, por favor suma {4-(num1+num2)}\")\n",
        "num4(1,3)"
      ]
    },
    {
      "cell_type": "code",
      "execution_count": null,
      "metadata": {},
      "outputs": [],
      "source": [
        "class clase():\n",
        "    variable_de_clase=1\n",
        "    def funcion():\n",
        "        variable_de_funcion=1\n",
        "variable=clase()#Tiene control de toda la clase y todas las funciones dentro de la clase\n",
        "variable=clase.funcion()#Al usarse ejecuta las instrucciones de la funcion\n",
        "variable=1#Referencia a un valor ya sea numero o cadena de texto\n"
      ]
    }
  ],
  "metadata": {
    "interpreter": {
      "hash": "3ef525aed409cc5a13783047c8d4d090b051bbc20387ad523d849e44a70e3fe1"
    },
    "kernelspec": {
      "display_name": "Python 3.10.5 64-bit",
      "language": "python",
      "name": "python3"
    },
    "language_info": {
      "codemirror_mode": {
        "name": "ipython",
        "version": 3
      },
      "file_extension": ".py",
      "mimetype": "text/x-python",
      "name": "python",
      "nbconvert_exporter": "python",
      "pygments_lexer": "ipython3",
      "version": "3.10.5"
    }
  },
  "nbformat": 4,
  "nbformat_minor": 4
}
