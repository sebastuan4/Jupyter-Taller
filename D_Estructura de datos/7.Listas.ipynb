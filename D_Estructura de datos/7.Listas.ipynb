{
 "cells": [
  {
   "cell_type": "code",
   "execution_count": 1,
   "metadata": {},
   "outputs": [
    {
     "ename": "TypeError",
     "evalue": "list.append() takes exactly one argument (0 given)",
     "output_type": "error",
     "traceback": [
      "\u001b[1;31m---------------------------------------------------------------------------\u001b[0m",
      "\u001b[1;31mTypeError\u001b[0m                                 Traceback (most recent call last)",
      "\u001b[1;32mc:\\Users\\sebas\\Desktop\\TCU\\Anexos\\Evidencias\\Material didactico\\Python\\D_Estructura de datos\\7.Listas.ipynb Cell 1\u001b[0m in \u001b[0;36m<cell line: 6>\u001b[1;34m()\u001b[0m\n\u001b[0;32m      <a href='vscode-notebook-cell:/c%3A/Users/sebas/Desktop/TCU/Anexos/Evidencias/Material%20didactico/Python/D_Estructura%20de%20datos/7.Listas.ipynb#W0sZmlsZQ%3D%3D?line=0'>1</a>\u001b[0m \u001b[39m#Listas\u001b[39;00m\n\u001b[0;32m      <a href='vscode-notebook-cell:/c%3A/Users/sebas/Desktop/TCU/Anexos/Evidencias/Material%20didactico/Python/D_Estructura%20de%20datos/7.Listas.ipynb#W0sZmlsZQ%3D%3D?line=1'>2</a>\u001b[0m \n\u001b[0;32m      <a href='vscode-notebook-cell:/c%3A/Users/sebas/Desktop/TCU/Anexos/Evidencias/Material%20didactico/Python/D_Estructura%20de%20datos/7.Listas.ipynb#W0sZmlsZQ%3D%3D?line=2'>3</a>\u001b[0m \u001b[39m#v1.1\u001b[39;00m\n\u001b[0;32m      <a href='vscode-notebook-cell:/c%3A/Users/sebas/Desktop/TCU/Anexos/Evidencias/Material%20didactico/Python/D_Estructura%20de%20datos/7.Listas.ipynb#W0sZmlsZQ%3D%3D?line=3'>4</a>\u001b[0m \u001b[39m#Definiendo una lista\u001b[39;00m\n\u001b[0;32m      <a href='vscode-notebook-cell:/c%3A/Users/sebas/Desktop/TCU/Anexos/Evidencias/Material%20didactico/Python/D_Estructura%20de%20datos/7.Listas.ipynb#W0sZmlsZQ%3D%3D?line=4'>5</a>\u001b[0m lista\u001b[39m=\u001b[39m[] \u001b[39m#Lista vacia \u001b[39;00m\n\u001b[1;32m----> <a href='vscode-notebook-cell:/c%3A/Users/sebas/Desktop/TCU/Anexos/Evidencias/Material%20didactico/Python/D_Estructura%20de%20datos/7.Listas.ipynb#W0sZmlsZQ%3D%3D?line=5'>6</a>\u001b[0m lista\u001b[39m.\u001b[39;49mappend()\n\u001b[0;32m      <a href='vscode-notebook-cell:/c%3A/Users/sebas/Desktop/TCU/Anexos/Evidencias/Material%20didactico/Python/D_Estructura%20de%20datos/7.Listas.ipynb#W0sZmlsZQ%3D%3D?line=6'>7</a>\u001b[0m trigjrigjrig\u001b[39m=\u001b[39m[[\u001b[39m0\u001b[39m,\u001b[39m1\u001b[39m,\u001b[39m2\u001b[39m],\n\u001b[0;32m      <a href='vscode-notebook-cell:/c%3A/Users/sebas/Desktop/TCU/Anexos/Evidencias/Material%20didactico/Python/D_Estructura%20de%20datos/7.Listas.ipynb#W0sZmlsZQ%3D%3D?line=7'>8</a>\u001b[0m              [\u001b[39m3\u001b[39m,\u001b[39m4\u001b[39m,\u001b[39m5\u001b[39m],\n\u001b[0;32m      <a href='vscode-notebook-cell:/c%3A/Users/sebas/Desktop/TCU/Anexos/Evidencias/Material%20didactico/Python/D_Estructura%20de%20datos/7.Listas.ipynb#W0sZmlsZQ%3D%3D?line=8'>9</a>\u001b[0m              [\u001b[39m6\u001b[39m,\u001b[39m7\u001b[39m,\u001b[39m8\u001b[39m],\n\u001b[0;32m     <a href='vscode-notebook-cell:/c%3A/Users/sebas/Desktop/TCU/Anexos/Evidencias/Material%20didactico/Python/D_Estructura%20de%20datos/7.Listas.ipynb#W0sZmlsZQ%3D%3D?line=9'>10</a>\u001b[0m              [\u001b[39m9\u001b[39m,\u001b[39m10\u001b[39m,\u001b[39m11\u001b[39m]]\n\u001b[0;32m     <a href='vscode-notebook-cell:/c%3A/Users/sebas/Desktop/TCU/Anexos/Evidencias/Material%20didactico/Python/D_Estructura%20de%20datos/7.Listas.ipynb#W0sZmlsZQ%3D%3D?line=10'>11</a>\u001b[0m meses\u001b[39m=\u001b[39m[\u001b[39m\"\u001b[39m\u001b[39mEnero\u001b[39m\u001b[39m\"\u001b[39m,\u001b[39m\"\u001b[39m\u001b[39mFebrero\u001b[39m\u001b[39m\"\u001b[39m,\u001b[39m\"\u001b[39m\u001b[39mMarzo\u001b[39m\u001b[39m\"\u001b[39m,\u001b[39m\"\u001b[39m\u001b[39mAbril\u001b[39m\u001b[39m\"\u001b[39m,\u001b[39m'\u001b[39m\u001b[39mMayo\u001b[39m\u001b[39m'\u001b[39m,\u001b[39m'\u001b[39m\u001b[39mJunio\u001b[39m\u001b[39m'\u001b[39m,\u001b[39m'\u001b[39m\u001b[39mJulio\u001b[39m\u001b[39m'\u001b[39m,\u001b[39m'\u001b[39m\u001b[39mAgosto\u001b[39m\u001b[39m'\u001b[39m,\u001b[39m'\u001b[39m\u001b[39mSeptiembre\u001b[39m\u001b[39m'\u001b[39m,\u001b[39m'\u001b[39m\u001b[39mOctubre\u001b[39m\u001b[39m'\u001b[39m,\u001b[39m'\u001b[39m\u001b[39mNoviembre\u001b[39m\u001b[39m'\u001b[39m,\u001b[39m'\u001b[39m\u001b[39mDiciembre\u001b[39m\u001b[39m'\u001b[39m,\u001b[39m\"\u001b[39m\u001b[39m9\u001b[39m\u001b[39m\"\u001b[39m]\n",
      "\u001b[1;31mTypeError\u001b[0m: list.append() takes exactly one argument (0 given)"
     ]
    }
   ],
   "source": [
    "#Listas\n",
    "#Definiendo una lista\n",
    "lista=[] #Lista vacia \n",
    "lista.append()\n",
    "trigjrigjrig=[[0,1,2],\n",
    "             [3,4,5],\n",
    "             [6,7,8],\n",
    "             [9,10,11]]\n",
    "meses=[\"Enero\",\"Febrero\",\"Marzo\",\"Abril\",'Mayo','Junio','Julio','Agosto','Septiembre','Octubre','Noviembre','Diciembre',\"9\"]\n",
    "#print(meses[1]) #0\n",
    "#print(meses[5:9]) #El slicing no es inclusivo \n",
    "#print(meses[-5]) #Con valores negativos el la lista se recorre desde atras\n",
    "print(len(meses)) #Imprimir el largo de la lista\n",
    "meses.append(\"mes 13\")#Agrega a la lista un valor\n",
    "#print(meses)\n",
    "#print(meses[-1])\n",
    "meses.pop()#Elimina de la lista el ultimo valor\n",
    "#print(meses[-1])\n",
    "meses.remove(\"Enero\")#Elimina un valor de una lista dependiendo del parametro\n",
    "print(meses[1])\n",
    "meses\n",
    "print(trigjrigjrig)\n"
   ]
  },
  {
   "cell_type": "code",
   "execution_count": null,
   "metadata": {},
   "outputs": [],
   "source": []
  }
 ],
 "metadata": {
  "interpreter": {
   "hash": "3ef525aed409cc5a13783047c8d4d090b051bbc20387ad523d849e44a70e3fe1"
  },
  "kernelspec": {
   "display_name": "Python 3.10.4 64-bit",
   "language": "python",
   "name": "python3"
  },
  "language_info": {
   "codemirror_mode": {
    "name": "ipython",
    "version": 3
   },
   "file_extension": ".py",
   "mimetype": "text/x-python",
   "name": "python",
   "nbconvert_exporter": "python",
   "pygments_lexer": "ipython3",
   "version": "3.10.5"
  },
  "orig_nbformat": 4
 },
 "nbformat": 4,
 "nbformat_minor": 2
}
