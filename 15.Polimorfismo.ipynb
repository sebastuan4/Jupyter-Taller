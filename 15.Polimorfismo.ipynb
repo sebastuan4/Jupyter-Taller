{
 "cells": [
  {
   "cell_type": "code",
   "execution_count": 1,
   "metadata": {},
   "outputs": [],
   "source": [
    "class pasante():\n",
    "    def quienSoy():\n",
    "        return(\"Soy pasante\")\n",
    "\n",
    "class trabajador():\n",
    "    def quienSoy():\n",
    "        return(\"Soy trabajador\")\n",
    "\n",
    "class voluntario():\n",
    "    def quienSoy():\n",
    "        return(\"Soy voluntario\")\n",
    "\n",
    "def quienEs():\n",
    "    personas=[pasante,trabajador,voluntario]\n",
    "    for persona in personas:\n",
    "        print(persona.quienSoy())"
   ]
  },
  {
   "cell_type": "code",
   "execution_count": 2,
   "metadata": {},
   "outputs": [
    {
     "name": "stdout",
     "output_type": "stream",
     "text": [
      "Soy pasante\n",
      "Soy trabajador\n",
      "Soy voluntario\n"
     ]
    }
   ],
   "source": [
    "quienEs()"
   ]
  }
 ],
 "metadata": {
  "interpreter": {
   "hash": "3ef525aed409cc5a13783047c8d4d090b051bbc20387ad523d849e44a70e3fe1"
  },
  "kernelspec": {
   "display_name": "Python 3.10.4 64-bit",
   "language": "python",
   "name": "python3"
  },
  "language_info": {
   "codemirror_mode": {
    "name": "ipython",
    "version": 3
   },
   "file_extension": ".py",
   "mimetype": "text/x-python",
   "name": "python",
   "nbconvert_exporter": "python",
   "pygments_lexer": "ipython3",
   "version": "3.10.5"
  },
  "orig_nbformat": 4
 },
 "nbformat": 4,
 "nbformat_minor": 2
}
